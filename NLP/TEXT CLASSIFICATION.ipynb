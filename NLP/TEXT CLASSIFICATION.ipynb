{
 "cells": [
  {
   "cell_type": "markdown",
   "id": "ad40ea9d-83e8-4451-b166-ab29f2e1bf0c",
   "metadata": {},
   "source": [
    "# TEXT CLASSIFICATION WITH BLAZING TEXT"
   ]
  },
  {
   "cell_type": "markdown",
   "id": "63cefc33-a05a-4ecc-909e-45242ecd9d7d",
   "metadata": {},
   "source": [
    "## SECTION 1: Configuration and Setup\n",
    "\n",
    "This is the only section students \"SHOULD\" need to modify.  \n",
    "It defines all key parameters needed to run the notebook pipeline from start to finish.  \n",
    "Once these are set, the rest of the workflow will execute automatically.\n",
    "\n",
    "This section:\n",
    "\n",
    "- Specifies the dataset file and its location  \n",
    "- Identifies which columns contain the text and the label  \n",
    "- Supports custom label remapping if needed  \n",
    "- Allows manual or automatic class count detection  \n",
    "- Sets a minimum sample size per class to avoid training issues  \n",
    "- Enables common preprocessing options like stopword removal and emoji stripping  \n",
    "- Lets students choose whether to automatically delete the model endpoint after testing  \n",
    "- Defines SageMaker settings like endpoint name, instance types, and S3 prefix  \n",
    "\n",
    "By configuring these values, students customize the pipeline for their dataset while keeping everything else automated.\n"
   ]
  },
  {
   "cell_type": "code",
   "execution_count": 1,
   "id": "0211e58f-016d-4011-bf9a-165db8846316",
   "metadata": {},
   "outputs": [],
   "source": [
    "# ------------------------------------------------------------------------------\n",
    "# DATASET SETTINGS\n",
    "# ------------------------------------------------------------------------------\n",
    "\n",
    "# Name of the CSV file you uploaded to the SageMaker Jupyter environment.\n",
    "# It should be in the same directory as this notebook.\n",
    "DATASET_FILE = \"Restaurant_Reviews_BINARY.csv\"  # Example: \"customer_reviews.csv\"\n",
    "\n",
    "# List of columns that contain the text input.\n",
    "# If you have more than one text column, list them in order. They will be concatenated.\n",
    "TEXT_COLUMNS = [\"cleaned_text_str\"]  # Example: [\"title\", \"body\"], or [\"feedback\"]\n",
    "\n",
    "# The name of the column that contains the labels you want to predict.\n",
    "# Labels can be binary (e.g., Positive/Negative), multi-class, or numeric ratings.\n",
    "LABEL_COLUMN = \"Rating\"  # Example: \"Sentiment\", \"Label\", \"Category\"\n",
    "\n",
    "# Optional dictionary to remap label values.\n",
    "# Use this if your dataset has custom labels like {\"Like\": \"5\"} or {\"pos\": \"Positive\"}.\n",
    "LABEL_MAP = {\n",
    "    \"Like\": \"5\"  # Modify as needed. Leave empty if no remapping is required.\n",
    "}\n",
    "\n",
    "# If known, you can set the number of unique classes (labels) in advance.\n",
    "# Otherwise, leave this as None and it will be determined automatically.\n",
    "NUM_CLASSES = None  # Example: 2, 3, or None\n",
    "\n",
    "# Minimum number of samples required per class.\n",
    "# Classes with fewer samples will be removed to avoid training errors.\n",
    "MIN_SAMPLES_PER_CLASS = 10  # Example: 10, 20, 50\n",
    "\n",
    "# ------------------------------------------------------------------------------\n",
    "# TEXT PREPROCESSING OPTIONS\n",
    "# ------------------------------------------------------------------------------\n",
    "\n",
    "# Whether to remove common stopwords like \"the\", \"is\", \"and\", etc.\n",
    "APPLY_STOPWORDS = True\n",
    "\n",
    "# Whether to remove emojis, emoticons, and other non-standard symbols.\n",
    "REMOVE_EMOJIS = True\n",
    "\n",
    "# Whether to apply basic spelling correction (experimental, may slow down processing).\n",
    "SPELL_CHECK = False\n",
    "\n",
    "# ------------------------------------------------------------------------------\n",
    "# CLEANUP CONFIGURATION\n",
    "# ------------------------------------------------------------------------------\n",
    "\n",
    "# If set to True, the SageMaker endpoint will be automatically deleted after testing.\n",
    "# If set to False, the user will be prompted to decide.\n",
    "CLEANUP = False\n",
    "\n",
    "# ------------------------------------------------------------------------------\n",
    "# SAGEMAKER AND INFRASTRUCTURE SETTINGS\n",
    "# ------------------------------------------------------------------------------\n",
    "\n",
    "# Name for the deployed endpoint. This must be unique within your AWS account.\n",
    "ENDPOINT_NAME = \"blazingtext-classification\"  # Example: \"textclassifier-john-doe\"\n",
    "\n",
    "# Instance type used for training the model.\n",
    "INSTANCE_TYPE = \"ml.m5.large\"\n",
    "\n",
    "# Instance type used to deploy the model for real-time inference.\n",
    "DEPLOY_INSTANCE_TYPE = \"ml.m5.large\"\n",
    "\n",
    "# Prefix for files stored in your S3 bucket (used internally by SageMaker).\n",
    "PREFIX = \"blazingtext-sentiment\"\n"
   ]
  },
  {
   "cell_type": "markdown",
   "id": "798ff2fe-920c-4c21-af45-e40df5792f28",
   "metadata": {},
   "source": [
    "## SECTION 2: Environment Setup and Imports\n",
    "\n",
    "This section:\n",
    "\n",
    "- Imports all required Python libraries  \n",
    "- Sets up the SageMaker session and AWS role  \n",
    "- Ensures necessary NLTK resources are downloaded  \n",
    "- Handles execution from within SageMaker notebooks (assumed environment)  \n",
    "- Initializes SageMaker and AWS resources  \n",
    "- Sets up logging for consistent outputs  \n",
    "- Prepares environment to run NLTK tokenization and lemmatization  \n",
    "- Supports both managed (SageMaker Notebook) and unmanaged (local) execution contexts\n"
   ]
  },
  {
   "cell_type": "code",
   "execution_count": 2,
   "id": "d53f39ca-d822-4fad-8bf9-a7f3fdf2ecc6",
   "metadata": {},
   "outputs": [
    {
     "name": "stderr",
     "output_type": "stream",
     "text": [
      "/home/ec2-user/anaconda3/envs/python3/lib/python3.10/site-packages/pydantic/_internal/_fields.py:192: UserWarning: Field name \"json\" in \"MonitoringDatasetFormat\" shadows an attribute in parent \"Base\"\n",
      "  warnings.warn(\n"
     ]
    },
    {
     "data": {
      "text/html": [
       "<pre style=\"white-space:pre;overflow-x:auto;line-height:normal;font-family:Menlo,'DejaVu Sans Mono',consolas,'Courier New',monospace\"><span style=\"color: #7fbfbf; text-decoration-color: #7fbfbf\">[04/02/25 10:29:30] </span><span style=\"color: #0069ff; text-decoration-color: #0069ff; font-weight: bold\">INFO    </span> Found credentials from IAM Role:                                   <a href=\"file:///home/ec2-user/anaconda3/envs/python3/lib/python3.10/site-packages/botocore/credentials.py\" target=\"_blank\"><span style=\"color: #7f7f7f; text-decoration-color: #7f7f7f\">credentials.py</span></a><span style=\"color: #7f7f7f; text-decoration-color: #7f7f7f\">:</span><a href=\"file:///home/ec2-user/anaconda3/envs/python3/lib/python3.10/site-packages/botocore/credentials.py#1132\" target=\"_blank\"><span style=\"color: #7f7f7f; text-decoration-color: #7f7f7f\">1132</span></a>\n",
       "<span style=\"color: #7fbfbf; text-decoration-color: #7fbfbf\">                    </span>         BaseNotebookInstanceEc2InstanceRole                                <span style=\"color: #7f7f7f; text-decoration-color: #7f7f7f\">                   </span>\n",
       "</pre>\n"
      ],
      "text/plain": [
       "\u001b[2;36m[04/02/25 10:29:30]\u001b[0m\u001b[2;36m \u001b[0m\u001b[1;38;2;0;105;255mINFO    \u001b[0m Found credentials from IAM Role:                                   \u001b]8;id=633239;file:///home/ec2-user/anaconda3/envs/python3/lib/python3.10/site-packages/botocore/credentials.py\u001b\\\u001b[2mcredentials.py\u001b[0m\u001b]8;;\u001b\\\u001b[2m:\u001b[0m\u001b]8;id=913834;file:///home/ec2-user/anaconda3/envs/python3/lib/python3.10/site-packages/botocore/credentials.py#1132\u001b\\\u001b[2m1132\u001b[0m\u001b]8;;\u001b\\\n",
       "\u001b[2;36m                    \u001b[0m         BaseNotebookInstanceEc2InstanceRole                                \u001b[2m                   \u001b[0m\n"
      ]
     },
     "metadata": {},
     "output_type": "display_data"
    },
    {
     "name": "stdout",
     "output_type": "stream",
     "text": [
      "sagemaker.config INFO - Not applying SDK defaults from location: /etc/xdg/sagemaker/config.yaml\n",
      "sagemaker.config INFO - Not applying SDK defaults from location: /home/ec2-user/.config/sagemaker/config.yaml\n"
     ]
    },
    {
     "name": "stderr",
     "output_type": "stream",
     "text": [
      "[nltk_data] Downloading package stopwords to\n",
      "[nltk_data]     /home/ec2-user/nltk_data...\n",
      "[nltk_data]   Package stopwords is already up-to-date!\n",
      "[nltk_data] Downloading package wordnet to /home/ec2-user/nltk_data...\n",
      "[nltk_data]   Package wordnet is already up-to-date!\n"
     ]
    },
    {
     "data": {
      "text/html": [
       "<pre style=\"white-space:pre;overflow-x:auto;line-height:normal;font-family:Menlo,'DejaVu Sans Mono',consolas,'Courier New',monospace\"><span style=\"color: #7fbfbf; text-decoration-color: #7fbfbf\">[04/02/25 10:29:31] </span><span style=\"color: #0069ff; text-decoration-color: #0069ff; font-weight: bold\">INFO    </span> Found credentials from IAM Role:                                   <a href=\"file:///home/ec2-user/anaconda3/envs/python3/lib/python3.10/site-packages/botocore/credentials.py\" target=\"_blank\"><span style=\"color: #7f7f7f; text-decoration-color: #7f7f7f\">credentials.py</span></a><span style=\"color: #7f7f7f; text-decoration-color: #7f7f7f\">:</span><a href=\"file:///home/ec2-user/anaconda3/envs/python3/lib/python3.10/site-packages/botocore/credentials.py#1132\" target=\"_blank\"><span style=\"color: #7f7f7f; text-decoration-color: #7f7f7f\">1132</span></a>\n",
       "<span style=\"color: #7fbfbf; text-decoration-color: #7fbfbf\">                    </span>         BaseNotebookInstanceEc2InstanceRole                                <span style=\"color: #7f7f7f; text-decoration-color: #7f7f7f\">                   </span>\n",
       "</pre>\n"
      ],
      "text/plain": [
       "\u001b[2;36m[04/02/25 10:29:31]\u001b[0m\u001b[2;36m \u001b[0m\u001b[1;38;2;0;105;255mINFO    \u001b[0m Found credentials from IAM Role:                                   \u001b]8;id=216820;file:///home/ec2-user/anaconda3/envs/python3/lib/python3.10/site-packages/botocore/credentials.py\u001b\\\u001b[2mcredentials.py\u001b[0m\u001b]8;;\u001b\\\u001b[2m:\u001b[0m\u001b]8;id=272428;file:///home/ec2-user/anaconda3/envs/python3/lib/python3.10/site-packages/botocore/credentials.py#1132\u001b\\\u001b[2m1132\u001b[0m\u001b]8;;\u001b\\\n",
       "\u001b[2;36m                    \u001b[0m         BaseNotebookInstanceEc2InstanceRole                                \u001b[2m                   \u001b[0m\n"
      ]
     },
     "metadata": {},
     "output_type": "display_data"
    },
    {
     "data": {
      "text/html": [
       "<pre style=\"white-space:pre;overflow-x:auto;line-height:normal;font-family:Menlo,'DejaVu Sans Mono',consolas,'Courier New',monospace\"><span style=\"color: #7fbfbf; text-decoration-color: #7fbfbf\">[04/02/25 10:29:32] </span><span style=\"color: #0069ff; text-decoration-color: #0069ff; font-weight: bold\">INFO    </span> Found credentials from IAM Role:                                   <a href=\"file:///home/ec2-user/anaconda3/envs/python3/lib/python3.10/site-packages/botocore/credentials.py\" target=\"_blank\"><span style=\"color: #7f7f7f; text-decoration-color: #7f7f7f\">credentials.py</span></a><span style=\"color: #7f7f7f; text-decoration-color: #7f7f7f\">:</span><a href=\"file:///home/ec2-user/anaconda3/envs/python3/lib/python3.10/site-packages/botocore/credentials.py#1132\" target=\"_blank\"><span style=\"color: #7f7f7f; text-decoration-color: #7f7f7f\">1132</span></a>\n",
       "<span style=\"color: #7fbfbf; text-decoration-color: #7fbfbf\">                    </span>         BaseNotebookInstanceEc2InstanceRole                                <span style=\"color: #7f7f7f; text-decoration-color: #7f7f7f\">                   </span>\n",
       "</pre>\n"
      ],
      "text/plain": [
       "\u001b[2;36m[04/02/25 10:29:32]\u001b[0m\u001b[2;36m \u001b[0m\u001b[1;38;2;0;105;255mINFO    \u001b[0m Found credentials from IAM Role:                                   \u001b]8;id=254963;file:///home/ec2-user/anaconda3/envs/python3/lib/python3.10/site-packages/botocore/credentials.py\u001b\\\u001b[2mcredentials.py\u001b[0m\u001b]8;;\u001b\\\u001b[2m:\u001b[0m\u001b]8;id=567455;file:///home/ec2-user/anaconda3/envs/python3/lib/python3.10/site-packages/botocore/credentials.py#1132\u001b\\\u001b[2m1132\u001b[0m\u001b]8;;\u001b\\\n",
       "\u001b[2;36m                    \u001b[0m         BaseNotebookInstanceEc2InstanceRole                                \u001b[2m                   \u001b[0m\n"
      ]
     },
     "metadata": {},
     "output_type": "display_data"
    },
    {
     "data": {
      "text/html": [
       "<pre style=\"white-space:pre;overflow-x:auto;line-height:normal;font-family:Menlo,'DejaVu Sans Mono',consolas,'Courier New',monospace\"><span style=\"color: #7fbfbf; text-decoration-color: #7fbfbf\">                    </span><span style=\"color: #0069ff; text-decoration-color: #0069ff; font-weight: bold\">INFO    </span> Using SageMaker execution role.                                       <a href=\"file:///tmp/ipykernel_11276/1760151327.py\" target=\"_blank\"><span style=\"color: #7f7f7f; text-decoration-color: #7f7f7f\">1760151327.py</span></a><span style=\"color: #7f7f7f; text-decoration-color: #7f7f7f\">:</span><a href=\"file:///tmp/ipykernel_11276/1760151327.py#58\" target=\"_blank\"><span style=\"color: #7f7f7f; text-decoration-color: #7f7f7f\">58</span></a>\n",
       "</pre>\n"
      ],
      "text/plain": [
       "\u001b[2;36m                   \u001b[0m\u001b[2;36m \u001b[0m\u001b[1;38;2;0;105;255mINFO    \u001b[0m Using SageMaker execution role.                                       \u001b]8;id=473917;file:///tmp/ipykernel_11276/1760151327.py\u001b\\\u001b[2m1760151327.py\u001b[0m\u001b]8;;\u001b\\\u001b[2m:\u001b[0m\u001b]8;id=916405;file:///tmp/ipykernel_11276/1760151327.py#58\u001b\\\u001b[2m58\u001b[0m\u001b]8;;\u001b\\\n"
      ]
     },
     "metadata": {},
     "output_type": "display_data"
    },
    {
     "data": {
      "text/html": [
       "<pre style=\"white-space:pre;overflow-x:auto;line-height:normal;font-family:Menlo,'DejaVu Sans Mono',consolas,'Courier New',monospace\"><span style=\"color: #7fbfbf; text-decoration-color: #7fbfbf\">                    </span><span style=\"color: #0069ff; text-decoration-color: #0069ff; font-weight: bold\">INFO    </span> Using role: arn:aws:iam::<span style=\"color: #008080; text-decoration-color: #008080; font-weight: bold\">042610003076</span>:role/LabRole                    <a href=\"file:///tmp/ipykernel_11276/1760151327.py\" target=\"_blank\"><span style=\"color: #7f7f7f; text-decoration-color: #7f7f7f\">1760151327.py</span></a><span style=\"color: #7f7f7f; text-decoration-color: #7f7f7f\">:</span><a href=\"file:///tmp/ipykernel_11276/1760151327.py#65\" target=\"_blank\"><span style=\"color: #7f7f7f; text-decoration-color: #7f7f7f\">65</span></a>\n",
       "</pre>\n"
      ],
      "text/plain": [
       "\u001b[2;36m                   \u001b[0m\u001b[2;36m \u001b[0m\u001b[1;38;2;0;105;255mINFO    \u001b[0m Using role: arn:aws:iam::\u001b[1;36m042610003076\u001b[0m:role/LabRole                    \u001b]8;id=122697;file:///tmp/ipykernel_11276/1760151327.py\u001b\\\u001b[2m1760151327.py\u001b[0m\u001b]8;;\u001b\\\u001b[2m:\u001b[0m\u001b]8;id=878476;file:///tmp/ipykernel_11276/1760151327.py#65\u001b\\\u001b[2m65\u001b[0m\u001b]8;;\u001b\\\n"
      ]
     },
     "metadata": {},
     "output_type": "display_data"
    },
    {
     "data": {
      "text/html": [
       "<pre style=\"white-space:pre;overflow-x:auto;line-height:normal;font-family:Menlo,'DejaVu Sans Mono',consolas,'Courier New',monospace\"><span style=\"color: #7fbfbf; text-decoration-color: #7fbfbf\">                    </span><span style=\"color: #0069ff; text-decoration-color: #0069ff; font-weight: bold\">INFO    </span> Using bucket: sagemaker-us-east-<span style=\"color: #008080; text-decoration-color: #008080; font-weight: bold\">1</span>-<span style=\"color: #008080; text-decoration-color: #008080; font-weight: bold\">042610003076</span>                        <a href=\"file:///tmp/ipykernel_11276/1760151327.py\" target=\"_blank\"><span style=\"color: #7f7f7f; text-decoration-color: #7f7f7f\">1760151327.py</span></a><span style=\"color: #7f7f7f; text-decoration-color: #7f7f7f\">:</span><a href=\"file:///tmp/ipykernel_11276/1760151327.py#66\" target=\"_blank\"><span style=\"color: #7f7f7f; text-decoration-color: #7f7f7f\">66</span></a>\n",
       "</pre>\n"
      ],
      "text/plain": [
       "\u001b[2;36m                   \u001b[0m\u001b[2;36m \u001b[0m\u001b[1;38;2;0;105;255mINFO    \u001b[0m Using bucket: sagemaker-us-east-\u001b[1;36m1\u001b[0m-\u001b[1;36m042610003076\u001b[0m                        \u001b]8;id=195677;file:///tmp/ipykernel_11276/1760151327.py\u001b\\\u001b[2m1760151327.py\u001b[0m\u001b]8;;\u001b\\\u001b[2m:\u001b[0m\u001b]8;id=513956;file:///tmp/ipykernel_11276/1760151327.py#66\u001b\\\u001b[2m66\u001b[0m\u001b]8;;\u001b\\\n"
      ]
     },
     "metadata": {},
     "output_type": "display_data"
    },
    {
     "data": {
      "text/html": [
       "<pre style=\"white-space:pre;overflow-x:auto;line-height:normal;font-family:Menlo,'DejaVu Sans Mono',consolas,'Courier New',monospace\"><span style=\"color: #7fbfbf; text-decoration-color: #7fbfbf\">                    </span><span style=\"color: #0069ff; text-decoration-color: #0069ff; font-weight: bold\">INFO    </span> Region: us-east-<span style=\"color: #008080; text-decoration-color: #008080; font-weight: bold\">1</span>                                                     <a href=\"file:///tmp/ipykernel_11276/1760151327.py\" target=\"_blank\"><span style=\"color: #7f7f7f; text-decoration-color: #7f7f7f\">1760151327.py</span></a><span style=\"color: #7f7f7f; text-decoration-color: #7f7f7f\">:</span><a href=\"file:///tmp/ipykernel_11276/1760151327.py#67\" target=\"_blank\"><span style=\"color: #7f7f7f; text-decoration-color: #7f7f7f\">67</span></a>\n",
       "</pre>\n"
      ],
      "text/plain": [
       "\u001b[2;36m                   \u001b[0m\u001b[2;36m \u001b[0m\u001b[1;38;2;0;105;255mINFO    \u001b[0m Region: us-east-\u001b[1;36m1\u001b[0m                                                     \u001b]8;id=374737;file:///tmp/ipykernel_11276/1760151327.py\u001b\\\u001b[2m1760151327.py\u001b[0m\u001b]8;;\u001b\\\u001b[2m:\u001b[0m\u001b]8;id=853373;file:///tmp/ipykernel_11276/1760151327.py#67\u001b\\\u001b[2m67\u001b[0m\u001b]8;;\u001b\\\n"
      ]
     },
     "metadata": {},
     "output_type": "display_data"
    }
   ],
   "source": [
    "# Standard library imports\n",
    "import os\n",
    "import re\n",
    "import time\n",
    "import json\n",
    "import logging\n",
    "import string\n",
    "\n",
    "# Third-party imports\n",
    "import boto3\n",
    "from botocore.exceptions import ClientError\n",
    "import numpy as np\n",
    "import pandas as pd\n",
    "import matplotlib.pyplot as plt\n",
    "import seaborn as sns\n",
    "\n",
    "# Scikit-learn\n",
    "from sklearn.model_selection import train_test_split\n",
    "from sklearn.metrics import (\n",
    "    classification_report,\n",
    "    confusion_matrix,\n",
    "    accuracy_score,\n",
    "    precision_score,\n",
    "    recall_score,\n",
    "    f1_score\n",
    ")\n",
    "\n",
    "# Natural Language Processing (NLTK)\n",
    "import nltk\n",
    "from nltk.tokenize import RegexpTokenizer\n",
    "from nltk.corpus import stopwords\n",
    "from nltk.stem import WordNetLemmatizer\n",
    "\n",
    "# SageMaker SDK\n",
    "import sagemaker\n",
    "from sagemaker import image_uris\n",
    "from sagemaker.inputs import TrainingInput\n",
    "from sagemaker.serializers import JSONSerializer\n",
    "from sagemaker.deserializers import JSONDeserializer\n",
    "from sagemaker.estimator import Estimator\n",
    "\n",
    "# Download required NLTK resources\n",
    "nltk.download(\"stopwords\")\n",
    "nltk.download(\"wordnet\")\n",
    "\n",
    "# Logging configuration\n",
    "logging.basicConfig(level=logging.INFO)\n",
    "logger = logging.getLogger()\n",
    "\n",
    "# SageMaker session and role\n",
    "session = sagemaker.Session()\n",
    "region = boto3.Session().region_name\n",
    "bucket = session.default_bucket()\n",
    "\n",
    "# Attempt to get execution role (works inside SageMaker Notebook)\n",
    "try:\n",
    "    role = sagemaker.get_execution_role()\n",
    "    logger.info(\"Using SageMaker execution role.\")\n",
    "except Exception:\n",
    "    # Fallback: attempt to get role via STS\n",
    "    sts = boto3.client(\"sts\")\n",
    "    role = sts.get_caller_identity()[\"Arn\"]\n",
    "    logger.warning(\"Falling back to STS for role ARN.\")\n",
    "\n",
    "logger.info(f\"Using role: {role}\")\n",
    "logger.info(f\"Using bucket: {bucket}\")\n",
    "logger.info(f\"Region: {region}\")\n"
   ]
  },
  {
   "cell_type": "markdown",
   "id": "5c5d06b4-c887-4015-94cc-09af0e6ed116",
   "metadata": {},
   "source": [
    "## SECTION 3: Dataset Loading and Validation\n",
    "\n",
    "This section will:\n",
    "\n",
    "- Attempt to load the dataset file specified in `DATASET_FILE`  \n",
    "- Raise an error if the file is not found in the current working directory  \n",
    "- Display the first few rows of the dataset for inspection  \n",
    "- List all available columns to help confirm input structure  \n",
    "- Verify that the specified text and label columns exist in the dataset  \n",
    "- Raise an error if any required columns are missing  \n",
    "- Combine multiple text columns (if more than one is provided) into a single `combined_text` column  \n",
    "- Apply custom label remapping if a `LABEL_MAP` is defined  \n",
    "- Drop any rows with missing text or labels, and log how many were removed  \n",
    "- Convert labels to string type for consistency  \n",
    "- Show the distribution of label values before class filtering is applied\n",
    "\n",
    "After this section, the notebook will have:\n",
    "\n",
    "- Validated all required input columns  \n",
    "- Created a single column for processed text input  \n",
    "- Cleaned and filtered out incomplete records  \n",
    "- Applied any necessary label transformations  \n",
    "- Logged the label distribution to prepare for class filtering\n"
   ]
  },
  {
   "cell_type": "code",
   "execution_count": 3,
   "id": "a5bab14e-097b-4883-a40a-b2197a69e910",
   "metadata": {},
   "outputs": [
    {
     "data": {
      "text/html": [
       "<pre style=\"white-space:pre;overflow-x:auto;line-height:normal;font-family:Menlo,'DejaVu Sans Mono',consolas,'Courier New',monospace\"><span style=\"color: #7fbfbf; text-decoration-color: #7fbfbf\">                    </span><span style=\"color: #0069ff; text-decoration-color: #0069ff; font-weight: bold\">INFO    </span> Successfully loaded dataset: Restaurant_Reviews_BINARY.csv             <a href=\"file:///tmp/ipykernel_11276/2350880736.py\" target=\"_blank\"><span style=\"color: #7f7f7f; text-decoration-color: #7f7f7f\">2350880736.py</span></a><span style=\"color: #7f7f7f; text-decoration-color: #7f7f7f\">:</span><a href=\"file:///tmp/ipykernel_11276/2350880736.py#4\" target=\"_blank\"><span style=\"color: #7f7f7f; text-decoration-color: #7f7f7f\">4</span></a>\n",
       "</pre>\n"
      ],
      "text/plain": [
       "\u001b[2;36m                   \u001b[0m\u001b[2;36m \u001b[0m\u001b[1;38;2;0;105;255mINFO    \u001b[0m Successfully loaded dataset: Restaurant_Reviews_BINARY.csv             \u001b]8;id=42845;file:///tmp/ipykernel_11276/2350880736.py\u001b\\\u001b[2m2350880736.py\u001b[0m\u001b]8;;\u001b\\\u001b[2m:\u001b[0m\u001b]8;id=776466;file:///tmp/ipykernel_11276/2350880736.py#4\u001b\\\u001b[2m4\u001b[0m\u001b]8;;\u001b\\\n"
      ]
     },
     "metadata": {},
     "output_type": "display_data"
    },
    {
     "data": {
      "text/html": [
       "<pre style=\"white-space:pre;overflow-x:auto;line-height:normal;font-family:Menlo,'DejaVu Sans Mono',consolas,'Courier New',monospace\"><span style=\"color: #7fbfbf; text-decoration-color: #7fbfbf\">                    </span><span style=\"color: #0069ff; text-decoration-color: #0069ff; font-weight: bold\">INFO    </span> Dataset Preview:                                                       <a href=\"file:///tmp/ipykernel_11276/2350880736.py\" target=\"_blank\"><span style=\"color: #7f7f7f; text-decoration-color: #7f7f7f\">2350880736.py</span></a><span style=\"color: #7f7f7f; text-decoration-color: #7f7f7f\">:</span><a href=\"file:///tmp/ipykernel_11276/2350880736.py#9\" target=\"_blank\"><span style=\"color: #7f7f7f; text-decoration-color: #7f7f7f\">9</span></a>\n",
       "</pre>\n"
      ],
      "text/plain": [
       "\u001b[2;36m                   \u001b[0m\u001b[2;36m \u001b[0m\u001b[1;38;2;0;105;255mINFO    \u001b[0m Dataset Preview:                                                       \u001b]8;id=199046;file:///tmp/ipykernel_11276/2350880736.py\u001b\\\u001b[2m2350880736.py\u001b[0m\u001b]8;;\u001b\\\u001b[2m:\u001b[0m\u001b]8;id=323382;file:///tmp/ipykernel_11276/2350880736.py#9\u001b\\\u001b[2m9\u001b[0m\u001b]8;;\u001b\\\n"
      ]
     },
     "metadata": {},
     "output_type": "display_data"
    },
    {
     "data": {
      "text/html": [
       "<div>\n",
       "<style scoped>\n",
       "    .dataframe tbody tr th:only-of-type {\n",
       "        vertical-align: middle;\n",
       "    }\n",
       "\n",
       "    .dataframe tbody tr th {\n",
       "        vertical-align: top;\n",
       "    }\n",
       "\n",
       "    .dataframe thead th {\n",
       "        text-align: right;\n",
       "    }\n",
       "</style>\n",
       "<table border=\"1\" class=\"dataframe\">\n",
       "  <thead>\n",
       "    <tr style=\"text-align: right;\">\n",
       "      <th></th>\n",
       "      <th>Rating</th>\n",
       "      <th>cleaned_text_str</th>\n",
       "    </tr>\n",
       "  </thead>\n",
       "  <tbody>\n",
       "    <tr>\n",
       "      <th>0</th>\n",
       "      <td>1</td>\n",
       "      <td>ambience good food quite good saturday lunch c...</td>\n",
       "    </tr>\n",
       "    <tr>\n",
       "      <th>1</th>\n",
       "      <td>1</td>\n",
       "      <td>ambience good pleasant evening service prompt ...</td>\n",
       "    </tr>\n",
       "    <tr>\n",
       "      <th>2</th>\n",
       "      <td>1</td>\n",
       "      <td>must try great food great ambience thnx servic...</td>\n",
       "    </tr>\n",
       "    <tr>\n",
       "      <th>3</th>\n",
       "      <td>1</td>\n",
       "      <td>soumen da arun great guy behavior sincerety go...</td>\n",
       "    </tr>\n",
       "    <tr>\n",
       "      <th>4</th>\n",
       "      <td>1</td>\n",
       "      <td>food goodwe ordered kodi drumstick basket mutt...</td>\n",
       "    </tr>\n",
       "  </tbody>\n",
       "</table>\n",
       "</div>"
      ],
      "text/plain": [
       "   Rating                                   cleaned_text_str\n",
       "0       1  ambience good food quite good saturday lunch c...\n",
       "1       1  ambience good pleasant evening service prompt ...\n",
       "2       1  must try great food great ambience thnx servic...\n",
       "3       1  soumen da arun great guy behavior sincerety go...\n",
       "4       1  food goodwe ordered kodi drumstick basket mutt..."
      ]
     },
     "metadata": {},
     "output_type": "display_data"
    },
    {
     "data": {
      "text/html": [
       "<pre style=\"white-space:pre;overflow-x:auto;line-height:normal;font-family:Menlo,'DejaVu Sans Mono',consolas,'Courier New',monospace\"><span style=\"color: #7fbfbf; text-decoration-color: #7fbfbf\">                    </span><span style=\"color: #0069ff; text-decoration-color: #0069ff; font-weight: bold\">INFO    </span> Available columns in dataset:                                         <a href=\"file:///tmp/ipykernel_11276/2350880736.py\" target=\"_blank\"><span style=\"color: #7f7f7f; text-decoration-color: #7f7f7f\">2350880736.py</span></a><span style=\"color: #7f7f7f; text-decoration-color: #7f7f7f\">:</span><a href=\"file:///tmp/ipykernel_11276/2350880736.py#13\" target=\"_blank\"><span style=\"color: #7f7f7f; text-decoration-color: #7f7f7f\">13</span></a>\n",
       "</pre>\n"
      ],
      "text/plain": [
       "\u001b[2;36m                   \u001b[0m\u001b[2;36m \u001b[0m\u001b[1;38;2;0;105;255mINFO    \u001b[0m Available columns in dataset:                                         \u001b]8;id=561534;file:///tmp/ipykernel_11276/2350880736.py\u001b\\\u001b[2m2350880736.py\u001b[0m\u001b]8;;\u001b\\\u001b[2m:\u001b[0m\u001b]8;id=905484;file:///tmp/ipykernel_11276/2350880736.py#13\u001b\\\u001b[2m13\u001b[0m\u001b]8;;\u001b\\\n"
      ]
     },
     "metadata": {},
     "output_type": "display_data"
    },
    {
     "name": "stdout",
     "output_type": "stream",
     "text": [
      "['Rating', 'cleaned_text_str']\n"
     ]
    },
    {
     "data": {
      "text/html": [
       "<pre style=\"white-space:pre;overflow-x:auto;line-height:normal;font-family:Menlo,'DejaVu Sans Mono',consolas,'Courier New',monospace\"><span style=\"color: #7fbfbf; text-decoration-color: #7fbfbf\">                    </span><span style=\"color: #0069ff; text-decoration-color: #0069ff; font-weight: bold\">INFO    </span> Dropped <span style=\"color: #008080; text-decoration-color: #008080; font-weight: bold\">0</span> rows with missing text or labels.                           <a href=\"file:///tmp/ipykernel_11276/2350880736.py\" target=\"_blank\"><span style=\"color: #7f7f7f; text-decoration-color: #7f7f7f\">2350880736.py</span></a><span style=\"color: #7f7f7f; text-decoration-color: #7f7f7f\">:</span><a href=\"file:///tmp/ipykernel_11276/2350880736.py#32\" target=\"_blank\"><span style=\"color: #7f7f7f; text-decoration-color: #7f7f7f\">32</span></a>\n",
       "</pre>\n"
      ],
      "text/plain": [
       "\u001b[2;36m                   \u001b[0m\u001b[2;36m \u001b[0m\u001b[1;38;2;0;105;255mINFO    \u001b[0m Dropped \u001b[1;36m0\u001b[0m rows with missing text or labels.                           \u001b]8;id=560457;file:///tmp/ipykernel_11276/2350880736.py\u001b\\\u001b[2m2350880736.py\u001b[0m\u001b]8;;\u001b\\\u001b[2m:\u001b[0m\u001b]8;id=860188;file:///tmp/ipykernel_11276/2350880736.py#32\u001b\\\u001b[2m32\u001b[0m\u001b]8;;\u001b\\\n"
      ]
     },
     "metadata": {},
     "output_type": "display_data"
    },
    {
     "data": {
      "text/html": [
       "<pre style=\"white-space:pre;overflow-x:auto;line-height:normal;font-family:Menlo,'DejaVu Sans Mono',consolas,'Courier New',monospace\"><span style=\"color: #7fbfbf; text-decoration-color: #7fbfbf\">                    </span><span style=\"color: #0069ff; text-decoration-color: #0069ff; font-weight: bold\">INFO    </span> Label distribution <span style=\"font-weight: bold\">(</span>before filtering<span style=\"font-weight: bold\">)</span>:                                <a href=\"file:///tmp/ipykernel_11276/2350880736.py\" target=\"_blank\"><span style=\"color: #7f7f7f; text-decoration-color: #7f7f7f\">2350880736.py</span></a><span style=\"color: #7f7f7f; text-decoration-color: #7f7f7f\">:</span><a href=\"file:///tmp/ipykernel_11276/2350880736.py#38\" target=\"_blank\"><span style=\"color: #7f7f7f; text-decoration-color: #7f7f7f\">38</span></a>\n",
       "</pre>\n"
      ],
      "text/plain": [
       "\u001b[2;36m                   \u001b[0m\u001b[2;36m \u001b[0m\u001b[1;38;2;0;105;255mINFO    \u001b[0m Label distribution \u001b[1m(\u001b[0mbefore filtering\u001b[1m)\u001b[0m:                                \u001b]8;id=613775;file:///tmp/ipykernel_11276/2350880736.py\u001b\\\u001b[2m2350880736.py\u001b[0m\u001b]8;;\u001b\\\u001b[2m:\u001b[0m\u001b]8;id=901113;file:///tmp/ipykernel_11276/2350880736.py#38\u001b\\\u001b[2m38\u001b[0m\u001b]8;;\u001b\\\n"
      ]
     },
     "metadata": {},
     "output_type": "display_data"
    },
    {
     "name": "stdout",
     "output_type": "stream",
     "text": [
      "1    5949\n",
      "0    3493\n",
      "Name: Rating, dtype: int64\n"
     ]
    }
   ],
   "source": [
    "# Load the dataset\n",
    "try:\n",
    "    df = pd.read_csv(DATASET_FILE)\n",
    "    logger.info(f\"Successfully loaded dataset: {DATASET_FILE}\")\n",
    "except FileNotFoundError:\n",
    "    raise FileNotFoundError(f\"Dataset file '{DATASET_FILE}' not found in current directory.\")\n",
    "\n",
    "# Preview dataset\n",
    "logger.info(\"Dataset Preview:\")\n",
    "display(df.head())\n",
    "\n",
    "# List available columns\n",
    "logger.info(\"Available columns in dataset:\")\n",
    "print(df.columns.tolist())\n",
    "\n",
    "# Check if specified columns exist\n",
    "missing_columns = [col for col in TEXT_COLUMNS + [LABEL_COLUMN] if col not in df.columns]\n",
    "if missing_columns:\n",
    "    raise ValueError(f\"The following columns were not found in the dataset: {missing_columns}\")\n",
    "\n",
    "# Combine multiple text columns (if needed)\n",
    "df[\"combined_text\"] = df[TEXT_COLUMNS].astype(str).agg(\" \".join, axis=1)\n",
    "\n",
    "# Apply label mapping if specified\n",
    "if LABEL_MAP:\n",
    "    df[LABEL_COLUMN] = df[LABEL_COLUMN].replace(LABEL_MAP)\n",
    "\n",
    "# Drop rows with missing values in key columns\n",
    "initial_size = len(df)\n",
    "df.dropna(subset=[\"combined_text\", LABEL_COLUMN], inplace=True)\n",
    "after_drop = len(df)\n",
    "logger.info(f\"Dropped {initial_size - after_drop} rows with missing text or labels.\")\n",
    "\n",
    "# Optionally convert labels to string type\n",
    "df[LABEL_COLUMN] = df[LABEL_COLUMN].astype(str)\n",
    "\n",
    "# Show class distribution before filtering\n",
    "logger.info(\"Label distribution (before filtering):\")\n",
    "print(df[LABEL_COLUMN].value_counts())\n"
   ]
  },
  {
   "cell_type": "markdown",
   "id": "9871f509-5c45-416b-a53e-9a57319fd1fa",
   "metadata": {},
   "source": [
    "## SECTION 4: Class Filtering and Label Analysis\n",
    "\n",
    "This section will:\n",
    "\n",
    "- Count the number of samples per class in the dataset  \n",
    "- Filter out label classes with fewer than `MIN_SAMPLES_PER_CLASS` examples  \n",
    "- Log which classes were retained and how many samples each contains  \n",
    "- Automatically determine the number of classes if `NUM_CLASSES` was not set manually  \n",
    "- Display a bar chart showing class distribution after filtering  \n",
    "- Normalize label values by stripping whitespace and replacing spaces with underscores to ensure compatibility with BlazingText formatting\n",
    "\n",
    "After this section, the notebook will have:\n",
    "\n",
    "- Removed underrepresented classes to ensure reliable training  \n",
    "- Inferred the number of classes from the data if not explicitly set  \n",
    "- Visualized the balanced class distribution for validation  \n",
    "- Cleaned label names in preparation for BlazingText input format\n"
   ]
  },
  {
   "cell_type": "code",
   "execution_count": 4,
   "id": "3edde9a0-10c1-4d29-b9ae-e0ff8564ce4a",
   "metadata": {},
   "outputs": [
    {
     "data": {
      "text/html": [
       "<pre style=\"white-space:pre;overflow-x:auto;line-height:normal;font-family:Menlo,'DejaVu Sans Mono',consolas,'Courier New',monospace\"><span style=\"color: #7fbfbf; text-decoration-color: #7fbfbf\">                    </span><span style=\"color: #0069ff; text-decoration-color: #0069ff; font-weight: bold\">INFO    </span> Classes retained <span style=\"font-weight: bold\">(</span>with at least <span style=\"color: #008080; text-decoration-color: #008080; font-weight: bold\">10</span> samples<span style=\"font-weight: bold\">)</span>:                            <a href=\"file:///tmp/ipykernel_11276/442612220.py\" target=\"_blank\"><span style=\"color: #7f7f7f; text-decoration-color: #7f7f7f\">442612220.py</span></a><span style=\"color: #7f7f7f; text-decoration-color: #7f7f7f\">:</span><a href=\"file:///tmp/ipykernel_11276/442612220.py#7\" target=\"_blank\"><span style=\"color: #7f7f7f; text-decoration-color: #7f7f7f\">7</span></a>\n",
       "</pre>\n"
      ],
      "text/plain": [
       "\u001b[2;36m                   \u001b[0m\u001b[2;36m \u001b[0m\u001b[1;38;2;0;105;255mINFO    \u001b[0m Classes retained \u001b[1m(\u001b[0mwith at least \u001b[1;36m10\u001b[0m samples\u001b[1m)\u001b[0m:                            \u001b]8;id=352179;file:///tmp/ipykernel_11276/442612220.py\u001b\\\u001b[2m442612220.py\u001b[0m\u001b]8;;\u001b\\\u001b[2m:\u001b[0m\u001b]8;id=814691;file:///tmp/ipykernel_11276/442612220.py#7\u001b\\\u001b[2m7\u001b[0m\u001b]8;;\u001b\\\n"
      ]
     },
     "metadata": {},
     "output_type": "display_data"
    },
    {
     "name": "stdout",
     "output_type": "stream",
     "text": [
      "1    5949\n",
      "0    3493\n",
      "Name: Rating, dtype: int64\n"
     ]
    },
    {
     "data": {
      "text/html": [
       "<pre style=\"white-space:pre;overflow-x:auto;line-height:normal;font-family:Menlo,'DejaVu Sans Mono',consolas,'Courier New',monospace\"><span style=\"color: #7fbfbf; text-decoration-color: #7fbfbf\">                    </span><span style=\"color: #0069ff; text-decoration-color: #0069ff; font-weight: bold\">INFO    </span> Number of classes inferred from data: <span style=\"color: #008080; text-decoration-color: #008080; font-weight: bold\">2</span>                                <a href=\"file:///tmp/ipykernel_11276/442612220.py\" target=\"_blank\"><span style=\"color: #7f7f7f; text-decoration-color: #7f7f7f\">442612220.py</span></a><span style=\"color: #7f7f7f; text-decoration-color: #7f7f7f\">:</span><a href=\"file:///tmp/ipykernel_11276/442612220.py#13\" target=\"_blank\"><span style=\"color: #7f7f7f; text-decoration-color: #7f7f7f\">13</span></a>\n",
       "</pre>\n"
      ],
      "text/plain": [
       "\u001b[2;36m                   \u001b[0m\u001b[2;36m \u001b[0m\u001b[1;38;2;0;105;255mINFO    \u001b[0m Number of classes inferred from data: \u001b[1;36m2\u001b[0m                                \u001b]8;id=754002;file:///tmp/ipykernel_11276/442612220.py\u001b\\\u001b[2m442612220.py\u001b[0m\u001b]8;;\u001b\\\u001b[2m:\u001b[0m\u001b]8;id=507482;file:///tmp/ipykernel_11276/442612220.py#13\u001b\\\u001b[2m13\u001b[0m\u001b]8;;\u001b\\\n"
      ]
     },
     "metadata": {},
     "output_type": "display_data"
    },
    {
     "data": {
      "text/html": [
       "<pre style=\"white-space:pre;overflow-x:auto;line-height:normal;font-family:Menlo,'DejaVu Sans Mono',consolas,'Courier New',monospace\"><span style=\"color: #7fbfbf; text-decoration-color: #7fbfbf\">                    </span><span style=\"color: #0069ff; text-decoration-color: #0069ff; font-weight: bold\">INFO    </span> Using categorical units to plot a list of strings that are all         <a href=\"file:///home/ec2-user/anaconda3/envs/python3/lib/python3.10/site-packages/matplotlib/category.py\" target=\"_blank\"><span style=\"color: #7f7f7f; text-decoration-color: #7f7f7f\">category.py</span></a><span style=\"color: #7f7f7f; text-decoration-color: #7f7f7f\">:</span><a href=\"file:///home/ec2-user/anaconda3/envs/python3/lib/python3.10/site-packages/matplotlib/category.py#224\" target=\"_blank\"><span style=\"color: #7f7f7f; text-decoration-color: #7f7f7f\">224</span></a>\n",
       "<span style=\"color: #7fbfbf; text-decoration-color: #7fbfbf\">                    </span>         parsable as floats or dates. If these strings should be plotted as     <span style=\"color: #7f7f7f; text-decoration-color: #7f7f7f\">               </span>\n",
       "<span style=\"color: #7fbfbf; text-decoration-color: #7fbfbf\">                    </span>         numbers, cast to the appropriate data type before plotting.            <span style=\"color: #7f7f7f; text-decoration-color: #7f7f7f\">               </span>\n",
       "</pre>\n"
      ],
      "text/plain": [
       "\u001b[2;36m                   \u001b[0m\u001b[2;36m \u001b[0m\u001b[1;38;2;0;105;255mINFO    \u001b[0m Using categorical units to plot a list of strings that are all         \u001b]8;id=845220;file:///home/ec2-user/anaconda3/envs/python3/lib/python3.10/site-packages/matplotlib/category.py\u001b\\\u001b[2mcategory.py\u001b[0m\u001b]8;;\u001b\\\u001b[2m:\u001b[0m\u001b]8;id=255020;file:///home/ec2-user/anaconda3/envs/python3/lib/python3.10/site-packages/matplotlib/category.py#224\u001b\\\u001b[2m224\u001b[0m\u001b]8;;\u001b\\\n",
       "\u001b[2;36m                    \u001b[0m         parsable as floats or dates. If these strings should be plotted as     \u001b[2m               \u001b[0m\n",
       "\u001b[2;36m                    \u001b[0m         numbers, cast to the appropriate data type before plotting.            \u001b[2m               \u001b[0m\n"
      ]
     },
     "metadata": {},
     "output_type": "display_data"
    },
    {
     "data": {
      "text/html": [
       "<pre style=\"white-space:pre;overflow-x:auto;line-height:normal;font-family:Menlo,'DejaVu Sans Mono',consolas,'Courier New',monospace\"><span style=\"color: #7fbfbf; text-decoration-color: #7fbfbf\">                    </span><span style=\"color: #0069ff; text-decoration-color: #0069ff; font-weight: bold\">INFO    </span> Using categorical units to plot a list of strings that are all         <a href=\"file:///home/ec2-user/anaconda3/envs/python3/lib/python3.10/site-packages/matplotlib/category.py\" target=\"_blank\"><span style=\"color: #7f7f7f; text-decoration-color: #7f7f7f\">category.py</span></a><span style=\"color: #7f7f7f; text-decoration-color: #7f7f7f\">:</span><a href=\"file:///home/ec2-user/anaconda3/envs/python3/lib/python3.10/site-packages/matplotlib/category.py#224\" target=\"_blank\"><span style=\"color: #7f7f7f; text-decoration-color: #7f7f7f\">224</span></a>\n",
       "<span style=\"color: #7fbfbf; text-decoration-color: #7fbfbf\">                    </span>         parsable as floats or dates. If these strings should be plotted as     <span style=\"color: #7f7f7f; text-decoration-color: #7f7f7f\">               </span>\n",
       "<span style=\"color: #7fbfbf; text-decoration-color: #7fbfbf\">                    </span>         numbers, cast to the appropriate data type before plotting.            <span style=\"color: #7f7f7f; text-decoration-color: #7f7f7f\">               </span>\n",
       "</pre>\n"
      ],
      "text/plain": [
       "\u001b[2;36m                   \u001b[0m\u001b[2;36m \u001b[0m\u001b[1;38;2;0;105;255mINFO    \u001b[0m Using categorical units to plot a list of strings that are all         \u001b]8;id=135753;file:///home/ec2-user/anaconda3/envs/python3/lib/python3.10/site-packages/matplotlib/category.py\u001b\\\u001b[2mcategory.py\u001b[0m\u001b]8;;\u001b\\\u001b[2m:\u001b[0m\u001b]8;id=715591;file:///home/ec2-user/anaconda3/envs/python3/lib/python3.10/site-packages/matplotlib/category.py#224\u001b\\\u001b[2m224\u001b[0m\u001b]8;;\u001b\\\n",
       "\u001b[2;36m                    \u001b[0m         parsable as floats or dates. If these strings should be plotted as     \u001b[2m               \u001b[0m\n",
       "\u001b[2;36m                    \u001b[0m         numbers, cast to the appropriate data type before plotting.            \u001b[2m               \u001b[0m\n"
      ]
     },
     "metadata": {},
     "output_type": "display_data"
    },
    {
     "data": {
      "image/png": "[encoded data removed]",
      "text/plain": [
       "<Figure size 800x400 with 1 Axes>"
      ]
     },
     "metadata": {},
     "output_type": "display_data"
    }
   ],
   "source": [
    "# Filter out classes with too few samples\n",
    "class_counts = df[LABEL_COLUMN].value_counts()\n",
    "valid_classes = class_counts[class_counts >= MIN_SAMPLES_PER_CLASS].index.tolist()\n",
    "\n",
    "df = df[df[LABEL_COLUMN].isin(valid_classes)]\n",
    "\n",
    "logger.info(f\"Classes retained (with at least {MIN_SAMPLES_PER_CLASS} samples):\")\n",
    "print(df[LABEL_COLUMN].value_counts())\n",
    "\n",
    "# Automatically detect number of classes if not provided\n",
    "if NUM_CLASSES is None:\n",
    "    NUM_CLASSES = df[LABEL_COLUMN].nunique()\n",
    "    logger.info(f\"Number of classes inferred from data: {NUM_CLASSES}\")\n",
    "else:\n",
    "    logger.info(f\"Number of classes defined by user: {NUM_CLASSES}\")\n",
    "\n",
    "# Plot class distribution\n",
    "plt.figure(figsize=(8, 4))\n",
    "sns.countplot(x=LABEL_COLUMN, data=df, order=df[LABEL_COLUMN].value_counts().index)\n",
    "plt.title(\"Class Distribution After Filtering\")\n",
    "plt.ylabel(\"Number of Samples\")\n",
    "plt.xticks(rotation=45)\n",
    "plt.tight_layout()\n",
    "plt.show()\n",
    "\n",
    "# Normalize label names for BlazingText (__label__ formatting requires clean text)\n",
    "df[LABEL_COLUMN] = df[LABEL_COLUMN].str.strip().str.replace(\" \", \"_\")\n"
   ]
  },
  {
   "cell_type": "markdown",
   "id": "bf775e97-6140-4a2c-bede-0e3e7b76bf17",
   "metadata": {},
   "source": [
    "## SECTION 5: Text Preprocessing\n",
    "\n",
    "This section will:\n",
    "\n",
    "- Check that all required configuration variables are loaded from Section 1  \n",
    "- Initialize tools for tokenization, lemmatization, and optional spell correction  \n",
    "- Define a regex pattern to remove emojis and symbols (if enabled)  \n",
    "- Clean and normalize text by:  \n",
    "  - Lowercasing  \n",
    "  - Removing URLs and HTML tags  \n",
    "  - Stripping emojis and non-standard symbols (optional)  \n",
    "  - Removing stopwords (optional)  \n",
    "  - Applying lemmatization  \n",
    "  - Correcting spelling (optional and basic)  \n",
    "- Apply the cleaning function to the combined text column and store results in a new `cleaned_text` column  \n",
    "- Compute token counts for each cleaned entry and generate summary statistics  \n",
    "- Remove extreme outliers based on token length (5th to 95th percentile range)  \n",
    "- Show a sample of cleaned text with corresponding labels for review\n",
    "\n",
    "After this section, the notebook will have:\n",
    "\n",
    "- A cleaned and normalized version of the text data  \n",
    "- Fewer outliers that could distort model learning  \n",
    "- Basic quality checks through token statistics  \n",
    "- Previewed examples to help students verify preprocessing settings\n"
   ]
  },
  {
   "cell_type": "code",
   "execution_count": 5,
   "id": "2b168079-d7ea-4cdf-95a8-eea933a9f97d",
   "metadata": {},
   "outputs": [
    {
     "data": {
      "text/html": [
       "<pre style=\"white-space:pre;overflow-x:auto;line-height:normal;font-family:Menlo,'DejaVu Sans Mono',consolas,'Courier New',monospace\"><span style=\"color: #7fbfbf; text-decoration-color: #7fbfbf\">                    </span><span style=\"color: #0069ff; text-decoration-color: #0069ff; font-weight: bold\">INFO    </span> Cleaning and preprocessing text<span style=\"color: #808000; text-decoration-color: #808000\">...</span>                                    <a href=\"file:///tmp/ipykernel_11276/2330955664.py\" target=\"_blank\"><span style=\"color: #7f7f7f; text-decoration-color: #7f7f7f\">2330955664.py</span></a><span style=\"color: #7f7f7f; text-decoration-color: #7f7f7f\">:</span><a href=\"file:///tmp/ipykernel_11276/2330955664.py#45\" target=\"_blank\"><span style=\"color: #7f7f7f; text-decoration-color: #7f7f7f\">45</span></a>\n",
       "</pre>\n"
      ],
      "text/plain": [
       "\u001b[2;36m                   \u001b[0m\u001b[2;36m \u001b[0m\u001b[1;38;2;0;105;255mINFO    \u001b[0m Cleaning and preprocessing text\u001b[33m...\u001b[0m                                    \u001b]8;id=746610;file:///tmp/ipykernel_11276/2330955664.py\u001b\\\u001b[2m2330955664.py\u001b[0m\u001b]8;;\u001b\\\u001b[2m:\u001b[0m\u001b]8;id=21558;file:///tmp/ipykernel_11276/2330955664.py#45\u001b\\\u001b[2m45\u001b[0m\u001b]8;;\u001b\\\n"
      ]
     },
     "metadata": {},
     "output_type": "display_data"
    },
    {
     "data": {
      "text/html": [
       "<pre style=\"white-space:pre;overflow-x:auto;line-height:normal;font-family:Menlo,'DejaVu Sans Mono',consolas,'Courier New',monospace\"><span style=\"color: #7fbfbf; text-decoration-color: #7fbfbf\">[04/02/25 10:29:38] </span><span style=\"color: #0069ff; text-decoration-color: #0069ff; font-weight: bold\">INFO    </span> Token statistics after cleaning:                                      <a href=\"file:///tmp/ipykernel_11276/2330955664.py\" target=\"_blank\"><span style=\"color: #7f7f7f; text-decoration-color: #7f7f7f\">2330955664.py</span></a><span style=\"color: #7f7f7f; text-decoration-color: #7f7f7f\">:</span><a href=\"file:///tmp/ipykernel_11276/2330955664.py#50\" target=\"_blank\"><span style=\"color: #7f7f7f; text-decoration-color: #7f7f7f\">50</span></a>\n",
       "</pre>\n"
      ],
      "text/plain": [
       "\u001b[2;36m[04/02/25 10:29:38]\u001b[0m\u001b[2;36m \u001b[0m\u001b[1;38;2;0;105;255mINFO    \u001b[0m Token statistics after cleaning:                                      \u001b]8;id=897211;file:///tmp/ipykernel_11276/2330955664.py\u001b\\\u001b[2m2330955664.py\u001b[0m\u001b]8;;\u001b\\\u001b[2m:\u001b[0m\u001b]8;id=629674;file:///tmp/ipykernel_11276/2330955664.py#50\u001b\\\u001b[2m50\u001b[0m\u001b]8;;\u001b\\\n"
      ]
     },
     "metadata": {},
     "output_type": "display_data"
    },
    {
     "name": "stdout",
     "output_type": "stream",
     "text": [
      "count    9442.000000\n",
      "mean       21.712773\n",
      "std        15.895262\n",
      "min         1.000000\n",
      "25%        13.000000\n",
      "50%        19.000000\n",
      "75%        28.000000\n",
      "max        79.000000\n",
      "Name: num_tokens, dtype: float64\n"
     ]
    },
    {
     "data": {
      "text/html": [
       "<pre style=\"white-space:pre;overflow-x:auto;line-height:normal;font-family:Menlo,'DejaVu Sans Mono',consolas,'Courier New',monospace\"><span style=\"color: #7fbfbf; text-decoration-color: #7fbfbf\">                    </span><span style=\"color: #0069ff; text-decoration-color: #0069ff; font-weight: bold\">INFO    </span> Filtered out reviews with token count outside range <span style=\"color: #008080; text-decoration-color: #008080; font-weight: bold\">1.0</span> to <span style=\"color: #008080; text-decoration-color: #008080; font-weight: bold\">55.0</span>       <a href=\"file:///tmp/ipykernel_11276/2330955664.py\" target=\"_blank\"><span style=\"color: #7f7f7f; text-decoration-color: #7f7f7f\">2330955664.py</span></a><span style=\"color: #7f7f7f; text-decoration-color: #7f7f7f\">:</span><a href=\"file:///tmp/ipykernel_11276/2330955664.py#56\" target=\"_blank\"><span style=\"color: #7f7f7f; text-decoration-color: #7f7f7f\">56</span></a>\n",
       "</pre>\n"
      ],
      "text/plain": [
       "\u001b[2;36m                   \u001b[0m\u001b[2;36m \u001b[0m\u001b[1;38;2;0;105;255mINFO    \u001b[0m Filtered out reviews with token count outside range \u001b[1;36m1.0\u001b[0m to \u001b[1;36m55.0\u001b[0m       \u001b]8;id=146676;file:///tmp/ipykernel_11276/2330955664.py\u001b\\\u001b[2m2330955664.py\u001b[0m\u001b]8;;\u001b\\\u001b[2m:\u001b[0m\u001b]8;id=302421;file:///tmp/ipykernel_11276/2330955664.py#56\u001b\\\u001b[2m56\u001b[0m\u001b]8;;\u001b\\\n"
      ]
     },
     "metadata": {},
     "output_type": "display_data"
    },
    {
     "data": {
      "text/html": [
       "<pre style=\"white-space:pre;overflow-x:auto;line-height:normal;font-family:Menlo,'DejaVu Sans Mono',consolas,'Courier New',monospace\"><span style=\"color: #7fbfbf; text-decoration-color: #7fbfbf\">                    </span><span style=\"color: #0069ff; text-decoration-color: #0069ff; font-weight: bold\">INFO    </span> Sample cleaned text:                                                  <a href=\"file:///tmp/ipykernel_11276/2330955664.py\" target=\"_blank\"><span style=\"color: #7f7f7f; text-decoration-color: #7f7f7f\">2330955664.py</span></a><span style=\"color: #7f7f7f; text-decoration-color: #7f7f7f\">:</span><a href=\"file:///tmp/ipykernel_11276/2330955664.py#59\" target=\"_blank\"><span style=\"color: #7f7f7f; text-decoration-color: #7f7f7f\">59</span></a>\n",
       "</pre>\n"
      ],
      "text/plain": [
       "\u001b[2;36m                   \u001b[0m\u001b[2;36m \u001b[0m\u001b[1;38;2;0;105;255mINFO    \u001b[0m Sample cleaned text:                                                  \u001b]8;id=982981;file:///tmp/ipykernel_11276/2330955664.py\u001b\\\u001b[2m2330955664.py\u001b[0m\u001b]8;;\u001b\\\u001b[2m:\u001b[0m\u001b]8;id=482415;file:///tmp/ipykernel_11276/2330955664.py#59\u001b\\\u001b[2m59\u001b[0m\u001b]8;;\u001b\\\n"
      ]
     },
     "metadata": {},
     "output_type": "display_data"
    },
    {
     "data": {
      "text/html": [
       "<div>\n",
       "<style scoped>\n",
       "    .dataframe tbody tr th:only-of-type {\n",
       "        vertical-align: middle;\n",
       "    }\n",
       "\n",
       "    .dataframe tbody tr th {\n",
       "        vertical-align: top;\n",
       "    }\n",
       "\n",
       "    .dataframe thead th {\n",
       "        text-align: right;\n",
       "    }\n",
       "</style>\n",
       "<table border=\"1\" class=\"dataframe\">\n",
       "  <thead>\n",
       "    <tr style=\"text-align: right;\">\n",
       "      <th></th>\n",
       "      <th>cleaned_text</th>\n",
       "      <th>Rating</th>\n",
       "    </tr>\n",
       "  </thead>\n",
       "  <tbody>\n",
       "    <tr>\n",
       "      <th>4500</th>\n",
       "      <td>shanghai chef quite time twice kobe sizzlers m...</td>\n",
       "      <td>1</td>\n",
       "    </tr>\n",
       "    <tr>\n",
       "      <th>713</th>\n",
       "      <td>great one bad one either try packaging isnt gr...</td>\n",
       "      <td>0</td>\n",
       "    </tr>\n",
       "    <tr>\n",
       "      <th>4408</th>\n",
       "      <td>got know place tv show went try biriyani order...</td>\n",
       "      <td>1</td>\n",
       "    </tr>\n",
       "    <tr>\n",
       "      <th>1552</th>\n",
       "      <td>ordered lucknowi veg galouti kebab paratha zom...</td>\n",
       "      <td>0</td>\n",
       "    </tr>\n",
       "    <tr>\n",
       "      <th>256</th>\n",
       "      <td>great fun kid family exceptional hospitality e...</td>\n",
       "      <td>1</td>\n",
       "    </tr>\n",
       "  </tbody>\n",
       "</table>\n",
       "</div>"
      ],
      "text/plain": [
       "                                           cleaned_text Rating\n",
       "4500  shanghai chef quite time twice kobe sizzlers m...      1\n",
       "713   great one bad one either try packaging isnt gr...      0\n",
       "4408  got know place tv show went try biriyani order...      1\n",
       "1552  ordered lucknowi veg galouti kebab paratha zom...      0\n",
       "256   great fun kid family exceptional hospitality e...      1"
      ]
     },
     "metadata": {},
     "output_type": "display_data"
    }
   ],
   "source": [
    "# Safety check: Make sure config variables are loaded\n",
    "required_vars = [\"SPELL_CHECK\", \"REMOVE_EMOJIS\", \"APPLY_STOPWORDS\", \"TEXT_COLUMNS\", \"LABEL_COLUMN\"]\n",
    "for var in required_vars:\n",
    "    if var not in globals():\n",
    "        raise RuntimeError(f\"Configuration variable '{var}' is not defined. Please run Section 1 first.\")\n",
    "\n",
    "# Initialize preprocessing tools\n",
    "lemmatizer = WordNetLemmatizer()\n",
    "tokenizer = RegexpTokenizer(r\"\\w+\")\n",
    "stop_words = set(stopwords.words(\"english\")) if APPLY_STOPWORDS else set()\n",
    "\n",
    "# Optional: Emoji and symbol removal pattern\n",
    "emoji_pattern = re.compile(\"[\" \n",
    "    u\"\\U0001F600-\\U0001F64F\"  # Emoticons\n",
    "    u\"\\U0001F300-\\U0001F5FF\"  # Symbols & pictographs\n",
    "    u\"\\U0001F680-\\U0001F6FF\"  # Transport & map symbols\n",
    "    u\"\\U0001F1E0-\\U0001F1FF\"  # Flags (iOS)\n",
    "    \"]+\", flags=re.UNICODE\n",
    ")\n",
    "\n",
    "# Optional: Basic spell correction using TextBlob\n",
    "if SPELL_CHECK:\n",
    "    try:\n",
    "        from textblob import TextBlob\n",
    "    except ImportError:\n",
    "        raise ImportError(\"TextBlob is not installed. Please run: !pip install textblob\")\n",
    "\n",
    "def clean_text(text):\n",
    "    text = text.lower()\n",
    "    text = re.sub(r\"http\\S+|www\\.\\S+\", \"\", text)\n",
    "    text = re.sub(r\"<.*?>\", \"\", text)\n",
    "\n",
    "    if REMOVE_EMOJIS:\n",
    "        text = emoji_pattern.sub(r\"\", text)\n",
    "\n",
    "    tokens = tokenizer.tokenize(text)\n",
    "\n",
    "    if SPELL_CHECK:\n",
    "        tokens = [str(TextBlob(token).correct()) for token in tokens]\n",
    "\n",
    "    tokens = [lemmatizer.lemmatize(t) for t in tokens if t not in stop_words]\n",
    "    return \" \".join(tokens)\n",
    "\n",
    "# Apply preprocessing\n",
    "logger.info(\"Cleaning and preprocessing text...\")\n",
    "df[\"cleaned_text\"] = df[\"combined_text\"].astype(str).apply(clean_text)\n",
    "\n",
    "# Token count statistics\n",
    "df[\"num_tokens\"] = df[\"cleaned_text\"].apply(lambda x: len(x.split()))\n",
    "logger.info(\"Token statistics after cleaning:\")\n",
    "print(df[\"num_tokens\"].describe())\n",
    "\n",
    "# Remove outliers based on token count\n",
    "low_th, high_th = np.percentile(df[\"num_tokens\"], [5, 95])\n",
    "df = df[(df[\"num_tokens\"] >= low_th) & (df[\"num_tokens\"] <= high_th)]\n",
    "logger.info(f\"Filtered out reviews with token count outside range {low_th:.1f} to {high_th:.1f}\")\n",
    "\n",
    "# Preview cleaned samples\n",
    "logger.info(\"Sample cleaned text:\")\n",
    "display(df[[\"cleaned_text\", LABEL_COLUMN]].sample(5))\n"
   ]
  },
  {
   "cell_type": "markdown",
   "id": "f4000426-8334-4e63-a260-1303af0a063d",
   "metadata": {},
   "source": [
    "## SECTION 6: Exploratory Visualizations\n",
    "\n",
    "This section will:\n",
    "\n",
    "- Plot the distribution of label classes after preprocessing using a bar chart  \n",
    "- Plot a histogram of token counts to show the distribution of text lengths  \n",
    "- Print example cleaned texts for each label class to help visually validate preprocessing quality\n",
    "\n",
    "These visualizations provide a helpful checkpoint before training, allowing students to confirm that:\n",
    "\n",
    "- The dataset remains balanced after cleaning and filtering  \n",
    "- The token length distribution is reasonable  \n",
    "- The cleaned text still preserves meaningful language features\n",
    "\n",
    "After this section, the notebook will have:\n",
    "\n",
    "- A visual summary of class distribution  \n",
    "- A histogram showing how long the text samples are (in tokens)  \n",
    "- A few sample cleaned reviews per label to verify text quality\n"
   ]
  },
  {
   "cell_type": "code",
   "execution_count": 6,
   "id": "32b13b0c-cbc7-4470-b016-1ccee14c772d",
   "metadata": {},
   "outputs": [
    {
     "data": {
      "text/html": [
       "<pre style=\"white-space:pre;overflow-x:auto;line-height:normal;font-family:Menlo,'DejaVu Sans Mono',consolas,'Courier New',monospace\"><span style=\"color: #7fbfbf; text-decoration-color: #7fbfbf\">                    </span><span style=\"color: #0069ff; text-decoration-color: #0069ff; font-weight: bold\">INFO    </span> Using categorical units to plot a list of strings that are all         <a href=\"file:///home/ec2-user/anaconda3/envs/python3/lib/python3.10/site-packages/matplotlib/category.py\" target=\"_blank\"><span style=\"color: #7f7f7f; text-decoration-color: #7f7f7f\">category.py</span></a><span style=\"color: #7f7f7f; text-decoration-color: #7f7f7f\">:</span><a href=\"file:///home/ec2-user/anaconda3/envs/python3/lib/python3.10/site-packages/matplotlib/category.py#224\" target=\"_blank\"><span style=\"color: #7f7f7f; text-decoration-color: #7f7f7f\">224</span></a>\n",
       "<span style=\"color: #7fbfbf; text-decoration-color: #7fbfbf\">                    </span>         parsable as floats or dates. If these strings should be plotted as     <span style=\"color: #7f7f7f; text-decoration-color: #7f7f7f\">               </span>\n",
       "<span style=\"color: #7fbfbf; text-decoration-color: #7fbfbf\">                    </span>         numbers, cast to the appropriate data type before plotting.            <span style=\"color: #7f7f7f; text-decoration-color: #7f7f7f\">               </span>\n",
       "</pre>\n"
      ],
      "text/plain": [
       "\u001b[2;36m                   \u001b[0m\u001b[2;36m \u001b[0m\u001b[1;38;2;0;105;255mINFO    \u001b[0m Using categorical units to plot a list of strings that are all         \u001b]8;id=366628;file:///home/ec2-user/anaconda3/envs/python3/lib/python3.10/site-packages/matplotlib/category.py\u001b\\\u001b[2mcategory.py\u001b[0m\u001b]8;;\u001b\\\u001b[2m:\u001b[0m\u001b]8;id=250475;file:///home/ec2-user/anaconda3/envs/python3/lib/python3.10/site-packages/matplotlib/category.py#224\u001b\\\u001b[2m224\u001b[0m\u001b]8;;\u001b\\\n",
       "\u001b[2;36m                    \u001b[0m         parsable as floats or dates. If these strings should be plotted as     \u001b[2m               \u001b[0m\n",
       "\u001b[2;36m                    \u001b[0m         numbers, cast to the appropriate data type before plotting.            \u001b[2m               \u001b[0m\n"
      ]
     },
     "metadata": {},
     "output_type": "display_data"
    },
    {
     "data": {
      "text/html": [
       "<pre style=\"white-space:pre;overflow-x:auto;line-height:normal;font-family:Menlo,'DejaVu Sans Mono',consolas,'Courier New',monospace\"><span style=\"color: #7fbfbf; text-decoration-color: #7fbfbf\">                    </span><span style=\"color: #0069ff; text-decoration-color: #0069ff; font-weight: bold\">INFO    </span> Using categorical units to plot a list of strings that are all         <a href=\"file:///home/ec2-user/anaconda3/envs/python3/lib/python3.10/site-packages/matplotlib/category.py\" target=\"_blank\"><span style=\"color: #7f7f7f; text-decoration-color: #7f7f7f\">category.py</span></a><span style=\"color: #7f7f7f; text-decoration-color: #7f7f7f\">:</span><a href=\"file:///home/ec2-user/anaconda3/envs/python3/lib/python3.10/site-packages/matplotlib/category.py#224\" target=\"_blank\"><span style=\"color: #7f7f7f; text-decoration-color: #7f7f7f\">224</span></a>\n",
       "<span style=\"color: #7fbfbf; text-decoration-color: #7fbfbf\">                    </span>         parsable as floats or dates. If these strings should be plotted as     <span style=\"color: #7f7f7f; text-decoration-color: #7f7f7f\">               </span>\n",
       "<span style=\"color: #7fbfbf; text-decoration-color: #7fbfbf\">                    </span>         numbers, cast to the appropriate data type before plotting.            <span style=\"color: #7f7f7f; text-decoration-color: #7f7f7f\">               </span>\n",
       "</pre>\n"
      ],
      "text/plain": [
       "\u001b[2;36m                   \u001b[0m\u001b[2;36m \u001b[0m\u001b[1;38;2;0;105;255mINFO    \u001b[0m Using categorical units to plot a list of strings that are all         \u001b]8;id=192409;file:///home/ec2-user/anaconda3/envs/python3/lib/python3.10/site-packages/matplotlib/category.py\u001b\\\u001b[2mcategory.py\u001b[0m\u001b]8;;\u001b\\\u001b[2m:\u001b[0m\u001b]8;id=838737;file:///home/ec2-user/anaconda3/envs/python3/lib/python3.10/site-packages/matplotlib/category.py#224\u001b\\\u001b[2m224\u001b[0m\u001b]8;;\u001b\\\n",
       "\u001b[2;36m                    \u001b[0m         parsable as floats or dates. If these strings should be plotted as     \u001b[2m               \u001b[0m\n",
       "\u001b[2;36m                    \u001b[0m         numbers, cast to the appropriate data type before plotting.            \u001b[2m               \u001b[0m\n"
      ]
     },
     "metadata": {},
     "output_type": "display_data"
    },
    {
     "data": {
      "image/png": "[encoded data removed]",
      "text/plain": [
       "<Figure size 800x400 with 1 Axes>"
      ]
     },
     "metadata": {},
     "output_type": "display_data"
    },
    {
     "data": {
      "image/png": "[encoded data removed]",
      "text/plain": [
       "<Figure size 800x400 with 1 Axes>"
      ]
     },
     "metadata": {},
     "output_type": "display_data"
    },
    {
     "data": {
      "text/html": [
       "<pre style=\"white-space:pre;overflow-x:auto;line-height:normal;font-family:Menlo,'DejaVu Sans Mono',consolas,'Courier New',monospace\"><span style=\"color: #7fbfbf; text-decoration-color: #7fbfbf\">[04/02/25 10:29:39] </span><span style=\"color: #0069ff; text-decoration-color: #0069ff; font-weight: bold\">INFO    </span> Sample cleaned texts per label:                                       <a href=\"file:///tmp/ipykernel_11276/3077917005.py\" target=\"_blank\"><span style=\"color: #7f7f7f; text-decoration-color: #7f7f7f\">3077917005.py</span></a><span style=\"color: #7f7f7f; text-decoration-color: #7f7f7f\">:</span><a href=\"file:///tmp/ipykernel_11276/3077917005.py#21\" target=\"_blank\"><span style=\"color: #7f7f7f; text-decoration-color: #7f7f7f\">21</span></a>\n",
       "</pre>\n"
      ],
      "text/plain": [
       "\u001b[2;36m[04/02/25 10:29:39]\u001b[0m\u001b[2;36m \u001b[0m\u001b[1;38;2;0;105;255mINFO    \u001b[0m Sample cleaned texts per label:                                       \u001b]8;id=524009;file:///tmp/ipykernel_11276/3077917005.py\u001b\\\u001b[2m3077917005.py\u001b[0m\u001b]8;;\u001b\\\u001b[2m:\u001b[0m\u001b]8;id=264767;file:///tmp/ipykernel_11276/3077917005.py#21\u001b\\\u001b[2m21\u001b[0m\u001b]8;;\u001b\\\n"
      ]
     },
     "metadata": {},
     "output_type": "display_data"
    },
    {
     "name": "stdout",
     "output_type": "stream",
     "text": [
      "\n",
      "Label: 1\n",
      "Example 1: simply love taste everything order place\n",
      "Example 2: try many thing chicken dum biryani good quantity good single person much two people enough would need get shake something like hungry full till neckthat like eating biryani two person normal eater winwin\n",
      "\n",
      "Label: 0\n",
      "Example 1: worst ever experience booking place corporate dinner courtesy sense talk customer reservation team intention business would never ever recommend place anyone\n",
      "Example 2: k baker known food bakery item ordered veg hot dog premium butter scotch pastry italian chocolate pastry veg hot dog stuffed aloo onion tomato slice mayonnaise taste good pastry also worth try overall ok\n"
     ]
    }
   ],
   "source": [
    "# Plot label distribution\n",
    "plt.figure(figsize=(8, 4))\n",
    "sns.countplot(data=df, x=LABEL_COLUMN, order=df[LABEL_COLUMN].value_counts().index)\n",
    "plt.title(\"Label Distribution After Preprocessing\")\n",
    "plt.xlabel(\"Label\")\n",
    "plt.ylabel(\"Number of Samples\")\n",
    "plt.xticks(rotation=45)\n",
    "plt.tight_layout()\n",
    "plt.show()\n",
    "\n",
    "# Plot distribution of token counts\n",
    "plt.figure(figsize=(8, 4))\n",
    "sns.histplot(df[\"num_tokens\"], bins=30, kde=False)\n",
    "plt.title(\"Distribution of Token Counts (After Cleaning)\")\n",
    "plt.xlabel(\"Number of Tokens per Sample\")\n",
    "plt.ylabel(\"Frequency\")\n",
    "plt.tight_layout()\n",
    "plt.show()\n",
    "\n",
    "# Show example cleaned texts for each label\n",
    "logger.info(\"Sample cleaned texts per label:\")\n",
    "for label in df[LABEL_COLUMN].unique():\n",
    "    print(f\"\\nLabel: {label}\")\n",
    "    sample_texts = df[df[LABEL_COLUMN] == label][\"cleaned_text\"].sample(2, random_state=42)\n",
    "    for i, txt in enumerate(sample_texts, 1):\n",
    "        print(f\"Example {i}: {txt}\")\n"
   ]
  },
  {
   "cell_type": "markdown",
   "id": "7fb0be36-a39e-4df7-aefe-28677ccf3aa2",
   "metadata": {},
   "source": [
    "## SECTION 7: LDA File Generation\n",
    "\n",
    "This section will:\n",
    "\n",
    "- Create a local output folder (`lda_texts`) to store LDA input files  \n",
    "- Loop through each unique label in the dataset  \n",
    "- Save all cleaned text samples for each label into separate `.txt` files  \n",
    "- Ensure each file contains one cleaned review per line  \n",
    "- Prepare the text files for downstream topic modeling using tools like Gensim or SageMaker LDA\n",
    "\n",
    "After this section, the notebook will have:\n",
    "\n",
    "- One plain text file per label class  \n",
    "- Each file containing cleaned reviews formatted for topic modeling  \n",
    "- A structured folder ready for input to LDA or similar unsupervised analysis tools\n"
   ]
  },
  {
   "cell_type": "code",
   "execution_count": 7,
   "id": "9244f2e1-1e5a-43e1-a9bd-976820c48b57",
   "metadata": {},
   "outputs": [
    {
     "data": {
      "text/html": [
       "<pre style=\"white-space:pre;overflow-x:auto;line-height:normal;font-family:Menlo,'DejaVu Sans Mono',consolas,'Courier New',monospace\"><span style=\"color: #7fbfbf; text-decoration-color: #7fbfbf\">                    </span><span style=\"color: #0069ff; text-decoration-color: #0069ff; font-weight: bold\">INFO    </span> Generating text files for LDA topic modeling<span style=\"color: #808000; text-decoration-color: #808000\">...</span>                        <a href=\"file:///tmp/ipykernel_11276/3125096628.py\" target=\"_blank\"><span style=\"color: #7f7f7f; text-decoration-color: #7f7f7f\">3125096628.py</span></a><span style=\"color: #7f7f7f; text-decoration-color: #7f7f7f\">:</span><a href=\"file:///tmp/ipykernel_11276/3125096628.py#1\" target=\"_blank\"><span style=\"color: #7f7f7f; text-decoration-color: #7f7f7f\">1</span></a>\n",
       "</pre>\n"
      ],
      "text/plain": [
       "\u001b[2;36m                   \u001b[0m\u001b[2;36m \u001b[0m\u001b[1;38;2;0;105;255mINFO    \u001b[0m Generating text files for LDA topic modeling\u001b[33m...\u001b[0m                        \u001b]8;id=94041;file:///tmp/ipykernel_11276/3125096628.py\u001b\\\u001b[2m3125096628.py\u001b[0m\u001b]8;;\u001b\\\u001b[2m:\u001b[0m\u001b]8;id=564488;file:///tmp/ipykernel_11276/3125096628.py#1\u001b\\\u001b[2m1\u001b[0m\u001b]8;;\u001b\\\n"
      ]
     },
     "metadata": {},
     "output_type": "display_data"
    },
    {
     "data": {
      "text/html": [
       "<pre style=\"white-space:pre;overflow-x:auto;line-height:normal;font-family:Menlo,'DejaVu Sans Mono',consolas,'Courier New',monospace\"><span style=\"color: #7fbfbf; text-decoration-color: #7fbfbf\">                    </span><span style=\"color: #0069ff; text-decoration-color: #0069ff; font-weight: bold\">INFO    </span> Saved: lda_texts/1_texts.txt                                          <a href=\"file:///tmp/ipykernel_11276/3125096628.py\" target=\"_blank\"><span style=\"color: #7f7f7f; text-decoration-color: #7f7f7f\">3125096628.py</span></a><span style=\"color: #7f7f7f; text-decoration-color: #7f7f7f\">:</span><a href=\"file:///tmp/ipykernel_11276/3125096628.py#15\" target=\"_blank\"><span style=\"color: #7f7f7f; text-decoration-color: #7f7f7f\">15</span></a>\n",
       "</pre>\n"
      ],
      "text/plain": [
       "\u001b[2;36m                   \u001b[0m\u001b[2;36m \u001b[0m\u001b[1;38;2;0;105;255mINFO    \u001b[0m Saved: lda_texts/1_texts.txt                                          \u001b]8;id=66415;file:///tmp/ipykernel_11276/3125096628.py\u001b\\\u001b[2m3125096628.py\u001b[0m\u001b]8;;\u001b\\\u001b[2m:\u001b[0m\u001b]8;id=888817;file:///tmp/ipykernel_11276/3125096628.py#15\u001b\\\u001b[2m15\u001b[0m\u001b]8;;\u001b\\\n"
      ]
     },
     "metadata": {},
     "output_type": "display_data"
    },
    {
     "data": {
      "text/html": [
       "<pre style=\"white-space:pre;overflow-x:auto;line-height:normal;font-family:Menlo,'DejaVu Sans Mono',consolas,'Courier New',monospace\"><span style=\"color: #7fbfbf; text-decoration-color: #7fbfbf\">                    </span><span style=\"color: #0069ff; text-decoration-color: #0069ff; font-weight: bold\">INFO    </span> Saved: lda_texts/0_texts.txt                                          <a href=\"file:///tmp/ipykernel_11276/3125096628.py\" target=\"_blank\"><span style=\"color: #7f7f7f; text-decoration-color: #7f7f7f\">3125096628.py</span></a><span style=\"color: #7f7f7f; text-decoration-color: #7f7f7f\">:</span><a href=\"file:///tmp/ipykernel_11276/3125096628.py#15\" target=\"_blank\"><span style=\"color: #7f7f7f; text-decoration-color: #7f7f7f\">15</span></a>\n",
       "</pre>\n"
      ],
      "text/plain": [
       "\u001b[2;36m                   \u001b[0m\u001b[2;36m \u001b[0m\u001b[1;38;2;0;105;255mINFO    \u001b[0m Saved: lda_texts/0_texts.txt                                          \u001b]8;id=35279;file:///tmp/ipykernel_11276/3125096628.py\u001b\\\u001b[2m3125096628.py\u001b[0m\u001b]8;;\u001b\\\u001b[2m:\u001b[0m\u001b]8;id=285732;file:///tmp/ipykernel_11276/3125096628.py#15\u001b\\\u001b[2m15\u001b[0m\u001b]8;;\u001b\\\n"
      ]
     },
     "metadata": {},
     "output_type": "display_data"
    }
   ],
   "source": [
    "logger.info(\"Generating text files for LDA topic modeling...\")\n",
    "\n",
    "# Create a folder to store LDA files\n",
    "lda_output_folder = \"lda_texts\"\n",
    "os.makedirs(lda_output_folder, exist_ok=True)\n",
    "\n",
    "# Save one file per label\n",
    "label_list = df[LABEL_COLUMN].unique()\n",
    "for label in label_list:\n",
    "    file_path = os.path.join(lda_output_folder, f\"{label}_texts.txt\")\n",
    "    subset = df[df[LABEL_COLUMN] == label][\"cleaned_text\"]\n",
    "    with open(file_path, \"w\", encoding=\"utf-8\") as f:\n",
    "        for line in subset:\n",
    "            f.write(line.strip().replace(\"\\n\", \" \") + \"\\n\")\n",
    "    logger.info(f\"Saved: {file_path}\")\n"
   ]
  },
  {
   "cell_type": "markdown",
   "id": "c2f12818-8030-4ee0-90f8-33d63f9b54de",
   "metadata": {},
   "source": [
    "## SECTION 8: Train / Validation / Test Split\n",
    "\n",
    "This section will:\n",
    "\n",
    "- Split the cleaned and filtered dataset into three subsets:  \n",
    "  - 70% for training  \n",
    "  - 15% for validation  \n",
    "  - 15% for testing  \n",
    "- Use stratified sampling to preserve the original class distribution across all splits  \n",
    "- Log the number of samples in each subset  \n",
    "- Optionally display the label distribution in each split to confirm balance\n",
    "\n",
    "Stratified splitting is used to help ensure that all label classes are fairly represented across the training, validation, and test sets.\n",
    "\n",
    "After this section, the notebook will have:\n",
    "\n",
    "- Separate datasets for training, validation, and final evaluation  \n",
    "- Class distributions that mirror the original dataset  \n",
    "- Logged counts for each split to support reproducibility and transparency\n"
   ]
  },
  {
   "cell_type": "code",
   "execution_count": 8,
   "id": "8263d4c1-e06c-409b-a934-10c2e3c092e1",
   "metadata": {},
   "outputs": [
    {
     "data": {
      "text/html": [
       "<pre style=\"white-space:pre;overflow-x:auto;line-height:normal;font-family:Menlo,'DejaVu Sans Mono',consolas,'Courier New',monospace\"><span style=\"color: #7fbfbf; text-decoration-color: #7fbfbf\">                    </span><span style=\"color: #0069ff; text-decoration-color: #0069ff; font-weight: bold\">INFO    </span> Data split completed.                                                 <a href=\"file:///tmp/ipykernel_11276/3418380189.py\" target=\"_blank\"><span style=\"color: #7f7f7f; text-decoration-color: #7f7f7f\">3418380189.py</span></a><span style=\"color: #7f7f7f; text-decoration-color: #7f7f7f\">:</span><a href=\"file:///tmp/ipykernel_11276/3418380189.py#18\" target=\"_blank\"><span style=\"color: #7f7f7f; text-decoration-color: #7f7f7f\">18</span></a>\n",
       "</pre>\n"
      ],
      "text/plain": [
       "\u001b[2;36m                   \u001b[0m\u001b[2;36m \u001b[0m\u001b[1;38;2;0;105;255mINFO    \u001b[0m Data split completed.                                                 \u001b]8;id=851368;file:///tmp/ipykernel_11276/3418380189.py\u001b\\\u001b[2m3418380189.py\u001b[0m\u001b]8;;\u001b\\\u001b[2m:\u001b[0m\u001b]8;id=479519;file:///tmp/ipykernel_11276/3418380189.py#18\u001b\\\u001b[2m18\u001b[0m\u001b]8;;\u001b\\\n"
      ]
     },
     "metadata": {},
     "output_type": "display_data"
    },
    {
     "data": {
      "text/html": [
       "<pre style=\"white-space:pre;overflow-x:auto;line-height:normal;font-family:Menlo,'DejaVu Sans Mono',consolas,'Courier New',monospace\"><span style=\"color: #7fbfbf; text-decoration-color: #7fbfbf\">                    </span><span style=\"color: #0069ff; text-decoration-color: #0069ff; font-weight: bold\">INFO    </span> Training set size: <span style=\"color: #008080; text-decoration-color: #008080; font-weight: bold\">6287</span>                                               <a href=\"file:///tmp/ipykernel_11276/3418380189.py\" target=\"_blank\"><span style=\"color: #7f7f7f; text-decoration-color: #7f7f7f\">3418380189.py</span></a><span style=\"color: #7f7f7f; text-decoration-color: #7f7f7f\">:</span><a href=\"file:///tmp/ipykernel_11276/3418380189.py#19\" target=\"_blank\"><span style=\"color: #7f7f7f; text-decoration-color: #7f7f7f\">19</span></a>\n",
       "</pre>\n"
      ],
      "text/plain": [
       "\u001b[2;36m                   \u001b[0m\u001b[2;36m \u001b[0m\u001b[1;38;2;0;105;255mINFO    \u001b[0m Training set size: \u001b[1;36m6287\u001b[0m                                               \u001b]8;id=218015;file:///tmp/ipykernel_11276/3418380189.py\u001b\\\u001b[2m3418380189.py\u001b[0m\u001b]8;;\u001b\\\u001b[2m:\u001b[0m\u001b]8;id=40701;file:///tmp/ipykernel_11276/3418380189.py#19\u001b\\\u001b[2m19\u001b[0m\u001b]8;;\u001b\\\n"
      ]
     },
     "metadata": {},
     "output_type": "display_data"
    },
    {
     "data": {
      "text/html": [
       "<pre style=\"white-space:pre;overflow-x:auto;line-height:normal;font-family:Menlo,'DejaVu Sans Mono',consolas,'Courier New',monospace\"><span style=\"color: #7fbfbf; text-decoration-color: #7fbfbf\">                    </span><span style=\"color: #0069ff; text-decoration-color: #0069ff; font-weight: bold\">INFO    </span> Validation set size: <span style=\"color: #008080; text-decoration-color: #008080; font-weight: bold\">1347</span>                                             <a href=\"file:///tmp/ipykernel_11276/3418380189.py\" target=\"_blank\"><span style=\"color: #7f7f7f; text-decoration-color: #7f7f7f\">3418380189.py</span></a><span style=\"color: #7f7f7f; text-decoration-color: #7f7f7f\">:</span><a href=\"file:///tmp/ipykernel_11276/3418380189.py#20\" target=\"_blank\"><span style=\"color: #7f7f7f; text-decoration-color: #7f7f7f\">20</span></a>\n",
       "</pre>\n"
      ],
      "text/plain": [
       "\u001b[2;36m                   \u001b[0m\u001b[2;36m \u001b[0m\u001b[1;38;2;0;105;255mINFO    \u001b[0m Validation set size: \u001b[1;36m1347\u001b[0m                                             \u001b]8;id=455705;file:///tmp/ipykernel_11276/3418380189.py\u001b\\\u001b[2m3418380189.py\u001b[0m\u001b]8;;\u001b\\\u001b[2m:\u001b[0m\u001b]8;id=944719;file:///tmp/ipykernel_11276/3418380189.py#20\u001b\\\u001b[2m20\u001b[0m\u001b]8;;\u001b\\\n"
      ]
     },
     "metadata": {},
     "output_type": "display_data"
    },
    {
     "data": {
      "text/html": [
       "<pre style=\"white-space:pre;overflow-x:auto;line-height:normal;font-family:Menlo,'DejaVu Sans Mono',consolas,'Courier New',monospace\"><span style=\"color: #7fbfbf; text-decoration-color: #7fbfbf\">                    </span><span style=\"color: #0069ff; text-decoration-color: #0069ff; font-weight: bold\">INFO    </span> Test set size: <span style=\"color: #008080; text-decoration-color: #008080; font-weight: bold\">1348</span>                                                   <a href=\"file:///tmp/ipykernel_11276/3418380189.py\" target=\"_blank\"><span style=\"color: #7f7f7f; text-decoration-color: #7f7f7f\">3418380189.py</span></a><span style=\"color: #7f7f7f; text-decoration-color: #7f7f7f\">:</span><a href=\"file:///tmp/ipykernel_11276/3418380189.py#21\" target=\"_blank\"><span style=\"color: #7f7f7f; text-decoration-color: #7f7f7f\">21</span></a>\n",
       "</pre>\n"
      ],
      "text/plain": [
       "\u001b[2;36m                   \u001b[0m\u001b[2;36m \u001b[0m\u001b[1;38;2;0;105;255mINFO    \u001b[0m Test set size: \u001b[1;36m1348\u001b[0m                                                   \u001b]8;id=136413;file:///tmp/ipykernel_11276/3418380189.py\u001b\\\u001b[2m3418380189.py\u001b[0m\u001b]8;;\u001b\\\u001b[2m:\u001b[0m\u001b]8;id=696520;file:///tmp/ipykernel_11276/3418380189.py#21\u001b\\\u001b[2m21\u001b[0m\u001b]8;;\u001b\\\n"
      ]
     },
     "metadata": {},
     "output_type": "display_data"
    },
    {
     "name": "stdout",
     "output_type": "stream",
     "text": [
      "\n",
      "Training class distribution:\n",
      "1    3966\n",
      "0    2321\n",
      "Name: Rating, dtype: int64\n",
      "\n",
      "Validation class distribution:\n",
      "1    850\n",
      "0    497\n",
      "Name: Rating, dtype: int64\n",
      "\n",
      "Test class distribution:\n",
      "1    850\n",
      "0    498\n",
      "Name: Rating, dtype: int64\n"
     ]
    }
   ],
   "source": [
    "# First split: train (70%) and temp (30%)\n",
    "train_df, temp_df = train_test_split(\n",
    "    df,\n",
    "    test_size=0.3,\n",
    "    stratify=df[LABEL_COLUMN],\n",
    "    random_state=42\n",
    ")\n",
    "\n",
    "# Second split: validation (15%) and test (15%)\n",
    "val_df, test_df = train_test_split(\n",
    "    temp_df,\n",
    "    test_size=0.5,\n",
    "    stratify=temp_df[LABEL_COLUMN],\n",
    "    random_state=42\n",
    ")\n",
    "\n",
    "# Report sizes\n",
    "logger.info(\"Data split completed.\")\n",
    "logger.info(f\"Training set size: {len(train_df)}\")\n",
    "logger.info(f\"Validation set size: {len(val_df)}\")\n",
    "logger.info(f\"Test set size: {len(test_df)}\")\n",
    "\n",
    "# Optional: display class distribution in each split\n",
    "def show_split_distribution(name, subset):\n",
    "    print(f\"\\n{name} class distribution:\")\n",
    "    print(subset[LABEL_COLUMN].value_counts())\n",
    "\n",
    "show_split_distribution(\"Training\", train_df)\n",
    "show_split_distribution(\"Validation\", val_df)\n",
    "show_split_distribution(\"Test\", test_df)\n"
   ]
  },
  {
   "cell_type": "markdown",
   "id": "c274665d-6737-4d7a-9620-b2b4d68a3dea",
   "metadata": {},
   "source": [
    "## SECTION 9: Preparing BlazingText Format\n",
    "\n",
    "This section will:\n",
    "\n",
    "- Format the training, validation, and test datasets to match BlazingText’s required input format  \n",
    "- Convert each row into a line with the structure: `__label__<label> cleaned text`  \n",
    "- Normalize labels by lowercasing and replacing spaces with underscores  \n",
    "- Strip and clean input text to ensure it meets formatting expectations  \n",
    "- Write three output files: `train.txt`, `validation.txt`, and `test.txt`, each containing one sample per line\n",
    "\n",
    "This formatting is necessary for BlazingText’s supervised mode, which expects labeled text in a specific structure.\n",
    "\n",
    "After this section, the notebook will have:\n",
    "\n",
    "- Three `.txt` files, one for each dataset split  \n",
    "- Cleaned and labeled text entries ready for S3 upload and SageMaker training\n"
   ]
  },
  {
   "cell_type": "code",
   "execution_count": 9,
   "id": "357c4071-0c48-47a2-baf0-df250df63331",
   "metadata": {},
   "outputs": [
    {
     "data": {
      "text/html": [
       "<pre style=\"white-space:pre;overflow-x:auto;line-height:normal;font-family:Menlo,'DejaVu Sans Mono',consolas,'Courier New',monospace\"><span style=\"color: #7fbfbf; text-decoration-color: #7fbfbf\">                    </span><span style=\"color: #0069ff; text-decoration-color: #0069ff; font-weight: bold\">INFO    </span> Formatted text files created for BlazingText:                          <a href=\"file:///tmp/ipykernel_11276/144093799.py\" target=\"_blank\"><span style=\"color: #7f7f7f; text-decoration-color: #7f7f7f\">144093799.py</span></a><span style=\"color: #7f7f7f; text-decoration-color: #7f7f7f\">:</span><a href=\"file:///tmp/ipykernel_11276/144093799.py#14\" target=\"_blank\"><span style=\"color: #7f7f7f; text-decoration-color: #7f7f7f\">14</span></a>\n",
       "</pre>\n"
      ],
      "text/plain": [
       "\u001b[2;36m                   \u001b[0m\u001b[2;36m \u001b[0m\u001b[1;38;2;0;105;255mINFO    \u001b[0m Formatted text files created for BlazingText:                          \u001b]8;id=883371;file:///tmp/ipykernel_11276/144093799.py\u001b\\\u001b[2m144093799.py\u001b[0m\u001b]8;;\u001b\\\u001b[2m:\u001b[0m\u001b]8;id=518721;file:///tmp/ipykernel_11276/144093799.py#14\u001b\\\u001b[2m14\u001b[0m\u001b]8;;\u001b\\\n"
      ]
     },
     "metadata": {},
     "output_type": "display_data"
    },
    {
     "data": {
      "text/html": [
       "<pre style=\"white-space:pre;overflow-x:auto;line-height:normal;font-family:Menlo,'DejaVu Sans Mono',consolas,'Courier New',monospace\"><span style=\"color: #7fbfbf; text-decoration-color: #7fbfbf\">                    </span><span style=\"color: #0069ff; text-decoration-color: #0069ff; font-weight: bold\">INFO    </span>  - train.txt                                                           <a href=\"file:///tmp/ipykernel_11276/144093799.py\" target=\"_blank\"><span style=\"color: #7f7f7f; text-decoration-color: #7f7f7f\">144093799.py</span></a><span style=\"color: #7f7f7f; text-decoration-color: #7f7f7f\">:</span><a href=\"file:///tmp/ipykernel_11276/144093799.py#15\" target=\"_blank\"><span style=\"color: #7f7f7f; text-decoration-color: #7f7f7f\">15</span></a>\n",
       "</pre>\n"
      ],
      "text/plain": [
       "\u001b[2;36m                   \u001b[0m\u001b[2;36m \u001b[0m\u001b[1;38;2;0;105;255mINFO    \u001b[0m  - train.txt                                                           \u001b]8;id=819697;file:///tmp/ipykernel_11276/144093799.py\u001b\\\u001b[2m144093799.py\u001b[0m\u001b]8;;\u001b\\\u001b[2m:\u001b[0m\u001b]8;id=864773;file:///tmp/ipykernel_11276/144093799.py#15\u001b\\\u001b[2m15\u001b[0m\u001b]8;;\u001b\\\n"
      ]
     },
     "metadata": {},
     "output_type": "display_data"
    },
    {
     "data": {
      "text/html": [
       "<pre style=\"white-space:pre;overflow-x:auto;line-height:normal;font-family:Menlo,'DejaVu Sans Mono',consolas,'Courier New',monospace\"><span style=\"color: #7fbfbf; text-decoration-color: #7fbfbf\">                    </span><span style=\"color: #0069ff; text-decoration-color: #0069ff; font-weight: bold\">INFO    </span>  - validation.txt                                                      <a href=\"file:///tmp/ipykernel_11276/144093799.py\" target=\"_blank\"><span style=\"color: #7f7f7f; text-decoration-color: #7f7f7f\">144093799.py</span></a><span style=\"color: #7f7f7f; text-decoration-color: #7f7f7f\">:</span><a href=\"file:///tmp/ipykernel_11276/144093799.py#16\" target=\"_blank\"><span style=\"color: #7f7f7f; text-decoration-color: #7f7f7f\">16</span></a>\n",
       "</pre>\n"
      ],
      "text/plain": [
       "\u001b[2;36m                   \u001b[0m\u001b[2;36m \u001b[0m\u001b[1;38;2;0;105;255mINFO    \u001b[0m  - validation.txt                                                      \u001b]8;id=539483;file:///tmp/ipykernel_11276/144093799.py\u001b\\\u001b[2m144093799.py\u001b[0m\u001b]8;;\u001b\\\u001b[2m:\u001b[0m\u001b]8;id=679981;file:///tmp/ipykernel_11276/144093799.py#16\u001b\\\u001b[2m16\u001b[0m\u001b]8;;\u001b\\\n"
      ]
     },
     "metadata": {},
     "output_type": "display_data"
    },
    {
     "data": {
      "text/html": [
       "<pre style=\"white-space:pre;overflow-x:auto;line-height:normal;font-family:Menlo,'DejaVu Sans Mono',consolas,'Courier New',monospace\"><span style=\"color: #7fbfbf; text-decoration-color: #7fbfbf\">                    </span><span style=\"color: #0069ff; text-decoration-color: #0069ff; font-weight: bold\">INFO    </span>  - test.txt                                                            <a href=\"file:///tmp/ipykernel_11276/144093799.py\" target=\"_blank\"><span style=\"color: #7f7f7f; text-decoration-color: #7f7f7f\">144093799.py</span></a><span style=\"color: #7f7f7f; text-decoration-color: #7f7f7f\">:</span><a href=\"file:///tmp/ipykernel_11276/144093799.py#17\" target=\"_blank\"><span style=\"color: #7f7f7f; text-decoration-color: #7f7f7f\">17</span></a>\n",
       "</pre>\n"
      ],
      "text/plain": [
       "\u001b[2;36m                   \u001b[0m\u001b[2;36m \u001b[0m\u001b[1;38;2;0;105;255mINFO    \u001b[0m  - test.txt                                                            \u001b]8;id=232041;file:///tmp/ipykernel_11276/144093799.py\u001b\\\u001b[2m144093799.py\u001b[0m\u001b]8;;\u001b\\\u001b[2m:\u001b[0m\u001b]8;id=281749;file:///tmp/ipykernel_11276/144093799.py#17\u001b\\\u001b[2m17\u001b[0m\u001b]8;;\u001b\\\n"
      ]
     },
     "metadata": {},
     "output_type": "display_data"
    }
   ],
   "source": [
    "def create_blazingtext_file(df_subset, filename):\n",
    "    with open(filename, \"w\", encoding=\"utf-8\") as f:\n",
    "        for _, row in df_subset.iterrows():\n",
    "            label = str(row[LABEL_COLUMN]).lower().strip().replace(\" \", \"_\")\n",
    "            text = str(row[\"cleaned_text\"]).strip().replace(\"\\n\", \" \")\n",
    "            if label and text:\n",
    "                f.write(f\"__label__{label} {text}\\n\")\n",
    "\n",
    "# Create formatted files\n",
    "create_blazingtext_file(train_df, \"train.txt\")\n",
    "create_blazingtext_file(val_df, \"validation.txt\")\n",
    "create_blazingtext_file(test_df, \"test.txt\")\n",
    "\n",
    "logger.info(\"Formatted text files created for BlazingText:\")\n",
    "logger.info(\" - train.txt\")\n",
    "logger.info(\" - validation.txt\")\n",
    "logger.info(\" - test.txt\")\n"
   ]
  },
  {
   "cell_type": "markdown",
   "id": "6e9b99d9-3d1b-4994-82fc-a1710143272a",
   "metadata": {},
   "source": [
    "## SECTION 10: Uploading Files to Amazon S3\n",
    "\n",
    "This section will:\n",
    "\n",
    "- Define S3 key paths for each dataset split using the configured `PREFIX`  \n",
    "- Upload `train.txt`, `validation.txt`, and `test.txt` to the specified S3 bucket  \n",
    "- Store each file in a structured subfolder (`train/`, `validation/`, `test/`)  \n",
    "- Log the full S3 URIs so students can see where their data is stored\n",
    "\n",
    "These files are required for the SageMaker training job and must be accessible in S3.\n",
    "\n",
    "After this section, the notebook will have:\n",
    "\n",
    "- Successfully uploaded training, validation, and test data to Amazon S3  \n",
    "- S3 paths that are structured and ready to be used as input for BlazingText training  \n",
    "- Logged URIs that confirm the upload was successful and traceable\n"
   ]
  },
  {
   "cell_type": "code",
   "execution_count": 10,
   "id": "1617a3fb-3df2-49f5-aa1a-e6c01348b8b3",
   "metadata": {},
   "outputs": [
    {
     "data": {
      "text/html": [
       "<pre style=\"white-space:pre;overflow-x:auto;line-height:normal;font-family:Menlo,'DejaVu Sans Mono',consolas,'Courier New',monospace\"><span style=\"color: #7fbfbf; text-decoration-color: #7fbfbf\">[04/02/25 10:29:40] </span><span style=\"color: #0069ff; text-decoration-color: #0069ff; font-weight: bold\">INFO    </span> Data uploaded to S3:                                                   <a href=\"file:///tmp/ipykernel_11276/507553151.py\" target=\"_blank\"><span style=\"color: #7f7f7f; text-decoration-color: #7f7f7f\">507553151.py</span></a><span style=\"color: #7f7f7f; text-decoration-color: #7f7f7f\">:</span><a href=\"file:///tmp/ipykernel_11276/507553151.py#11\" target=\"_blank\"><span style=\"color: #7f7f7f; text-decoration-color: #7f7f7f\">11</span></a>\n",
       "</pre>\n"
      ],
      "text/plain": [
       "\u001b[2;36m[04/02/25 10:29:40]\u001b[0m\u001b[2;36m \u001b[0m\u001b[1;38;2;0;105;255mINFO    \u001b[0m Data uploaded to S3:                                                   \u001b]8;id=285231;file:///tmp/ipykernel_11276/507553151.py\u001b\\\u001b[2m507553151.py\u001b[0m\u001b]8;;\u001b\\\u001b[2m:\u001b[0m\u001b]8;id=392168;file:///tmp/ipykernel_11276/507553151.py#11\u001b\\\u001b[2m11\u001b[0m\u001b]8;;\u001b\\\n"
      ]
     },
     "metadata": {},
     "output_type": "display_data"
    },
    {
     "data": {
      "text/html": [
       "<pre style=\"white-space:pre;overflow-x:auto;line-height:normal;font-family:Menlo,'DejaVu Sans Mono',consolas,'Courier New',monospace\"><span style=\"color: #7fbfbf; text-decoration-color: #7fbfbf\">                    </span><span style=\"color: #0069ff; text-decoration-color: #0069ff; font-weight: bold\">INFO    </span>  - Training data:                                                      <a href=\"file:///tmp/ipykernel_11276/507553151.py\" target=\"_blank\"><span style=\"color: #7f7f7f; text-decoration-color: #7f7f7f\">507553151.py</span></a><span style=\"color: #7f7f7f; text-decoration-color: #7f7f7f\">:</span><a href=\"file:///tmp/ipykernel_11276/507553151.py#12\" target=\"_blank\"><span style=\"color: #7f7f7f; text-decoration-color: #7f7f7f\">12</span></a>\n",
       "<span style=\"color: #7fbfbf; text-decoration-color: #7fbfbf\">                    </span>         s3:<span style=\"color: #e100e1; text-decoration-color: #e100e1\">//sagemaker-us-east-1-042610003076/blazingtext-sentiment/train/trai</span> <span style=\"color: #7f7f7f; text-decoration-color: #7f7f7f\">               </span>\n",
       "<span style=\"color: #7fbfbf; text-decoration-color: #7fbfbf\">                    </span>         <span style=\"color: #e100e1; text-decoration-color: #e100e1\">n.txt</span>                                                                  <span style=\"color: #7f7f7f; text-decoration-color: #7f7f7f\">               </span>\n",
       "</pre>\n"
      ],
      "text/plain": [
       "\u001b[2;36m                   \u001b[0m\u001b[2;36m \u001b[0m\u001b[1;38;2;0;105;255mINFO    \u001b[0m  - Training data:                                                      \u001b]8;id=189649;file:///tmp/ipykernel_11276/507553151.py\u001b\\\u001b[2m507553151.py\u001b[0m\u001b]8;;\u001b\\\u001b[2m:\u001b[0m\u001b]8;id=827926;file:///tmp/ipykernel_11276/507553151.py#12\u001b\\\u001b[2m12\u001b[0m\u001b]8;;\u001b\\\n",
       "\u001b[2;36m                    \u001b[0m         s3:\u001b[38;2;225;0;225m/\u001b[0m\u001b[38;2;225;0;225m/sagemaker-us-east-1-042610003076/blazingtext-sentiment/train/\u001b[0m\u001b[38;2;225;0;225mtrai\u001b[0m \u001b[2m               \u001b[0m\n",
       "\u001b[2;36m                    \u001b[0m         \u001b[38;2;225;0;225mn.txt\u001b[0m                                                                  \u001b[2m               \u001b[0m\n"
      ]
     },
     "metadata": {},
     "output_type": "display_data"
    },
    {
     "data": {
      "text/html": [
       "<pre style=\"white-space:pre;overflow-x:auto;line-height:normal;font-family:Menlo,'DejaVu Sans Mono',consolas,'Courier New',monospace\"><span style=\"color: #7fbfbf; text-decoration-color: #7fbfbf\">                    </span><span style=\"color: #0069ff; text-decoration-color: #0069ff; font-weight: bold\">INFO    </span>  - Validation data:                                                    <a href=\"file:///tmp/ipykernel_11276/507553151.py\" target=\"_blank\"><span style=\"color: #7f7f7f; text-decoration-color: #7f7f7f\">507553151.py</span></a><span style=\"color: #7f7f7f; text-decoration-color: #7f7f7f\">:</span><a href=\"file:///tmp/ipykernel_11276/507553151.py#13\" target=\"_blank\"><span style=\"color: #7f7f7f; text-decoration-color: #7f7f7f\">13</span></a>\n",
       "<span style=\"color: #7fbfbf; text-decoration-color: #7fbfbf\">                    </span>         s3:<span style=\"color: #e100e1; text-decoration-color: #e100e1\">//sagemaker-us-east-1-042610003076/blazingtext-sentiment/validation</span> <span style=\"color: #7f7f7f; text-decoration-color: #7f7f7f\">               </span>\n",
       "<span style=\"color: #7fbfbf; text-decoration-color: #7fbfbf\">                    </span>         <span style=\"color: #e100e1; text-decoration-color: #e100e1\">/validation.txt</span>                                                        <span style=\"color: #7f7f7f; text-decoration-color: #7f7f7f\">               </span>\n",
       "</pre>\n"
      ],
      "text/plain": [
       "\u001b[2;36m                   \u001b[0m\u001b[2;36m \u001b[0m\u001b[1;38;2;0;105;255mINFO    \u001b[0m  - Validation data:                                                    \u001b]8;id=601157;file:///tmp/ipykernel_11276/507553151.py\u001b\\\u001b[2m507553151.py\u001b[0m\u001b]8;;\u001b\\\u001b[2m:\u001b[0m\u001b]8;id=232478;file:///tmp/ipykernel_11276/507553151.py#13\u001b\\\u001b[2m13\u001b[0m\u001b]8;;\u001b\\\n",
       "\u001b[2;36m                    \u001b[0m         s3:\u001b[38;2;225;0;225m/\u001b[0m\u001b[38;2;225;0;225m/sagemaker-us-east-1-042610003076/blazingtext-sentiment/validation\u001b[0m \u001b[2m               \u001b[0m\n",
       "\u001b[2;36m                    \u001b[0m         \u001b[38;2;225;0;225m/\u001b[0m\u001b[38;2;225;0;225mvalidation.txt\u001b[0m                                                        \u001b[2m               \u001b[0m\n"
      ]
     },
     "metadata": {},
     "output_type": "display_data"
    },
    {
     "data": {
      "text/html": [
       "<pre style=\"white-space:pre;overflow-x:auto;line-height:normal;font-family:Menlo,'DejaVu Sans Mono',consolas,'Courier New',monospace\"><span style=\"color: #7fbfbf; text-decoration-color: #7fbfbf\">                    </span><span style=\"color: #0069ff; text-decoration-color: #0069ff; font-weight: bold\">INFO    </span>  - Test data:                                                          <a href=\"file:///tmp/ipykernel_11276/507553151.py\" target=\"_blank\"><span style=\"color: #7f7f7f; text-decoration-color: #7f7f7f\">507553151.py</span></a><span style=\"color: #7f7f7f; text-decoration-color: #7f7f7f\">:</span><a href=\"file:///tmp/ipykernel_11276/507553151.py#14\" target=\"_blank\"><span style=\"color: #7f7f7f; text-decoration-color: #7f7f7f\">14</span></a>\n",
       "<span style=\"color: #7fbfbf; text-decoration-color: #7fbfbf\">                    </span>         s3:<span style=\"color: #e100e1; text-decoration-color: #e100e1\">//sagemaker-us-east-1-042610003076/blazingtext-sentiment/test/test.</span> <span style=\"color: #7f7f7f; text-decoration-color: #7f7f7f\">               </span>\n",
       "<span style=\"color: #7fbfbf; text-decoration-color: #7fbfbf\">                    </span>         <span style=\"color: #e100e1; text-decoration-color: #e100e1\">txt</span>                                                                    <span style=\"color: #7f7f7f; text-decoration-color: #7f7f7f\">               </span>\n",
       "</pre>\n"
      ],
      "text/plain": [
       "\u001b[2;36m                   \u001b[0m\u001b[2;36m \u001b[0m\u001b[1;38;2;0;105;255mINFO    \u001b[0m  - Test data:                                                          \u001b]8;id=14577;file:///tmp/ipykernel_11276/507553151.py\u001b\\\u001b[2m507553151.py\u001b[0m\u001b]8;;\u001b\\\u001b[2m:\u001b[0m\u001b]8;id=13598;file:///tmp/ipykernel_11276/507553151.py#14\u001b\\\u001b[2m14\u001b[0m\u001b]8;;\u001b\\\n",
       "\u001b[2;36m                    \u001b[0m         s3:\u001b[38;2;225;0;225m/\u001b[0m\u001b[38;2;225;0;225m/sagemaker-us-east-1-042610003076/blazingtext-sentiment/test/\u001b[0m\u001b[38;2;225;0;225mtest.\u001b[0m \u001b[2m               \u001b[0m\n",
       "\u001b[2;36m                    \u001b[0m         \u001b[38;2;225;0;225mtxt\u001b[0m                                                                    \u001b[2m               \u001b[0m\n"
      ]
     },
     "metadata": {},
     "output_type": "display_data"
    }
   ],
   "source": [
    "# Define S3 key prefix path (subfolder)\n",
    "train_key = f\"{PREFIX}/train/train.txt\"\n",
    "val_key = f\"{PREFIX}/validation/validation.txt\"\n",
    "test_key = f\"{PREFIX}/test/test.txt\"\n",
    "\n",
    "# Upload to S3\n",
    "train_s3_uri = session.upload_data(path=\"train.txt\", bucket=bucket, key_prefix=f\"{PREFIX}/train\")\n",
    "val_s3_uri = session.upload_data(path=\"validation.txt\", bucket=bucket, key_prefix=f\"{PREFIX}/validation\")\n",
    "test_s3_uri = session.upload_data(path=\"test.txt\", bucket=bucket, key_prefix=f\"{PREFIX}/test\")\n",
    "\n",
    "logger.info(\"Data uploaded to S3:\")\n",
    "logger.info(f\" - Training data:    {train_s3_uri}\")\n",
    "logger.info(f\" - Validation data: {val_s3_uri}\")\n",
    "logger.info(f\" - Test data:       {test_s3_uri}\")\n"
   ]
  },
  {
   "cell_type": "markdown",
   "id": "0378b811-6b1a-49da-9684-260920636e47",
   "metadata": {},
   "source": [
    "## SECTION 11: Training the BlazingText Model\n",
    "\n",
    "This section will:\n",
    "\n",
    "- Retrieve the correct container image URI for the BlazingText algorithm in the current AWS region  \n",
    "- Initialize a SageMaker Estimator configured for the selected training instance type  \n",
    "- Set BlazingText hyperparameters such as mode, number of epochs, learning rate, and minimum word count  \n",
    "- Define the training and validation input channels using the uploaded S3 URIs  \n",
    "- Launch a fully managed training job on SageMaker using the provided settings\n",
    "\n",
    "The model will be trained in **supervised mode**, meaning it will learn to predict labels based on the training data provided.\n",
    "\n",
    "After this section, the notebook will have:\n",
    "\n",
    "- Started a SageMaker training job using the cleaned and preprocessed dataset  \n",
    "- Configured BlazingText with appropriate hyperparameters for classification  \n",
    "- Logged the training progress, either in the notebook or in the SageMaker console\n"
   ]
  },
  {
   "cell_type": "code",
   "execution_count": 11,
   "id": "1949a64e-10b1-4306-8314-9e960b5176cc",
   "metadata": {},
   "outputs": [
    {
     "data": {
      "text/html": [
       "<pre style=\"white-space:pre;overflow-x:auto;line-height:normal;font-family:Menlo,'DejaVu Sans Mono',consolas,'Courier New',monospace\"><span style=\"color: #7fbfbf; text-decoration-color: #7fbfbf\">                    </span><span style=\"color: #0069ff; text-decoration-color: #0069ff; font-weight: bold\">INFO    </span> Same images used for training and inference. Defaulting to image     <a href=\"file:///home/ec2-user/anaconda3/envs/python3/lib/python3.10/site-packages/sagemaker/image_uris.py\" target=\"_blank\"><span style=\"color: #7f7f7f; text-decoration-color: #7f7f7f\">image_uris.py</span></a><span style=\"color: #7f7f7f; text-decoration-color: #7f7f7f\">:</span><a href=\"file:///home/ec2-user/anaconda3/envs/python3/lib/python3.10/site-packages/sagemaker/image_uris.py#393\" target=\"_blank\"><span style=\"color: #7f7f7f; text-decoration-color: #7f7f7f\">393</span></a>\n",
       "<span style=\"color: #7fbfbf; text-decoration-color: #7fbfbf\">                    </span>         scope: inference.                                                    <span style=\"color: #7f7f7f; text-decoration-color: #7f7f7f\">                 </span>\n",
       "</pre>\n"
      ],
      "text/plain": [
       "\u001b[2;36m                   \u001b[0m\u001b[2;36m \u001b[0m\u001b[1;38;2;0;105;255mINFO    \u001b[0m Same images used for training and inference. Defaulting to image     \u001b]8;id=947781;file:///home/ec2-user/anaconda3/envs/python3/lib/python3.10/site-packages/sagemaker/image_uris.py\u001b\\\u001b[2mimage_uris.py\u001b[0m\u001b]8;;\u001b\\\u001b[2m:\u001b[0m\u001b]8;id=647988;file:///home/ec2-user/anaconda3/envs/python3/lib/python3.10/site-packages/sagemaker/image_uris.py#393\u001b\\\u001b[2m393\u001b[0m\u001b]8;;\u001b\\\n",
       "\u001b[2;36m                    \u001b[0m         scope: inference.                                                    \u001b[2m                 \u001b[0m\n"
      ]
     },
     "metadata": {},
     "output_type": "display_data"
    },
    {
     "data": {
      "text/html": [
       "<pre style=\"white-space:pre;overflow-x:auto;line-height:normal;font-family:Menlo,'DejaVu Sans Mono',consolas,'Courier New',monospace\"><span style=\"color: #7fbfbf; text-decoration-color: #7fbfbf\">                    </span><span style=\"color: #0069ff; text-decoration-color: #0069ff; font-weight: bold\">INFO    </span> Ignoring unnecessary instance type: <span style=\"color: #e100e1; text-decoration-color: #e100e1; font-style: italic\">None</span>.                            <a href=\"file:///home/ec2-user/anaconda3/envs/python3/lib/python3.10/site-packages/sagemaker/image_uris.py\" target=\"_blank\"><span style=\"color: #7f7f7f; text-decoration-color: #7f7f7f\">image_uris.py</span></a><span style=\"color: #7f7f7f; text-decoration-color: #7f7f7f\">:</span><a href=\"file:///home/ec2-user/anaconda3/envs/python3/lib/python3.10/site-packages/sagemaker/image_uris.py#530\" target=\"_blank\"><span style=\"color: #7f7f7f; text-decoration-color: #7f7f7f\">530</span></a>\n",
       "</pre>\n"
      ],
      "text/plain": [
       "\u001b[2;36m                   \u001b[0m\u001b[2;36m \u001b[0m\u001b[1;38;2;0;105;255mINFO    \u001b[0m Ignoring unnecessary instance type: \u001b[3;38;2;225;0;225mNone\u001b[0m.                            \u001b]8;id=535997;file:///home/ec2-user/anaconda3/envs/python3/lib/python3.10/site-packages/sagemaker/image_uris.py\u001b\\\u001b[2mimage_uris.py\u001b[0m\u001b]8;;\u001b\\\u001b[2m:\u001b[0m\u001b]8;id=346718;file:///home/ec2-user/anaconda3/envs/python3/lib/python3.10/site-packages/sagemaker/image_uris.py#530\u001b\\\u001b[2m530\u001b[0m\u001b]8;;\u001b\\\n"
      ]
     },
     "metadata": {},
     "output_type": "display_data"
    },
    {
     "data": {
      "text/html": [
       "<pre style=\"white-space:pre;overflow-x:auto;line-height:normal;font-family:Menlo,'DejaVu Sans Mono',consolas,'Courier New',monospace\"><span style=\"color: #7fbfbf; text-decoration-color: #7fbfbf\">                    </span><span style=\"color: #0069ff; text-decoration-color: #0069ff; font-weight: bold\">INFO    </span> Found credentials from IAM Role:                                   <a href=\"file:///home/ec2-user/anaconda3/envs/python3/lib/python3.10/site-packages/botocore/credentials.py\" target=\"_blank\"><span style=\"color: #7f7f7f; text-decoration-color: #7f7f7f\">credentials.py</span></a><span style=\"color: #7f7f7f; text-decoration-color: #7f7f7f\">:</span><a href=\"file:///home/ec2-user/anaconda3/envs/python3/lib/python3.10/site-packages/botocore/credentials.py#1132\" target=\"_blank\"><span style=\"color: #7f7f7f; text-decoration-color: #7f7f7f\">1132</span></a>\n",
       "<span style=\"color: #7fbfbf; text-decoration-color: #7fbfbf\">                    </span>         BaseNotebookInstanceEc2InstanceRole                                <span style=\"color: #7f7f7f; text-decoration-color: #7f7f7f\">                   </span>\n",
       "</pre>\n"
      ],
      "text/plain": [
       "\u001b[2;36m                   \u001b[0m\u001b[2;36m \u001b[0m\u001b[1;38;2;0;105;255mINFO    \u001b[0m Found credentials from IAM Role:                                   \u001b]8;id=318429;file:///home/ec2-user/anaconda3/envs/python3/lib/python3.10/site-packages/botocore/credentials.py\u001b\\\u001b[2mcredentials.py\u001b[0m\u001b]8;;\u001b\\\u001b[2m:\u001b[0m\u001b]8;id=165370;file:///home/ec2-user/anaconda3/envs/python3/lib/python3.10/site-packages/botocore/credentials.py#1132\u001b\\\u001b[2m1132\u001b[0m\u001b]8;;\u001b\\\n",
       "\u001b[2;36m                    \u001b[0m         BaseNotebookInstanceEc2InstanceRole                                \u001b[2m                   \u001b[0m\n"
      ]
     },
     "metadata": {},
     "output_type": "display_data"
    },
    {
     "data": {
      "text/html": [
       "<pre style=\"white-space:pre;overflow-x:auto;line-height:normal;font-family:Menlo,'DejaVu Sans Mono',consolas,'Courier New',monospace\"><span style=\"color: #7fbfbf; text-decoration-color: #7fbfbf\">                    </span><span style=\"color: #0069ff; text-decoration-color: #0069ff; font-weight: bold\">INFO    </span> Starting training job with BlazingText on SageMaker<span style=\"color: #808000; text-decoration-color: #808000\">...</span>                <a href=\"file:///tmp/ipykernel_11276/3556772473.py\" target=\"_blank\"><span style=\"color: #7f7f7f; text-decoration-color: #7f7f7f\">3556772473.py</span></a><span style=\"color: #7f7f7f; text-decoration-color: #7f7f7f\">:</span><a href=\"file:///tmp/ipykernel_11276/3556772473.py#23\" target=\"_blank\"><span style=\"color: #7f7f7f; text-decoration-color: #7f7f7f\">23</span></a>\n",
       "</pre>\n"
      ],
      "text/plain": [
       "\u001b[2;36m                   \u001b[0m\u001b[2;36m \u001b[0m\u001b[1;38;2;0;105;255mINFO    \u001b[0m Starting training job with BlazingText on SageMaker\u001b[33m...\u001b[0m                \u001b]8;id=805070;file:///tmp/ipykernel_11276/3556772473.py\u001b\\\u001b[2m3556772473.py\u001b[0m\u001b]8;;\u001b\\\u001b[2m:\u001b[0m\u001b]8;id=440757;file:///tmp/ipykernel_11276/3556772473.py#23\u001b\\\u001b[2m23\u001b[0m\u001b]8;;\u001b\\\n"
      ]
     },
     "metadata": {},
     "output_type": "display_data"
    },
    {
     "data": {
      "text/html": [
       "<pre style=\"white-space:pre;overflow-x:auto;line-height:normal;font-family:Menlo,'DejaVu Sans Mono',consolas,'Courier New',monospace\"><span style=\"color: #7fbfbf; text-decoration-color: #7fbfbf\">                    </span><span style=\"color: #0069ff; text-decoration-color: #0069ff; font-weight: bold\">INFO    </span> SageMaker Python SDK will collect telemetry to help us better  <a href=\"file:///home/ec2-user/anaconda3/envs/python3/lib/python3.10/site-packages/sagemaker/telemetry/telemetry_logging.py\" target=\"_blank\"><span style=\"color: #7f7f7f; text-decoration-color: #7f7f7f\">telemetry_logging.py</span></a><span style=\"color: #7f7f7f; text-decoration-color: #7f7f7f\">:</span><a href=\"file:///home/ec2-user/anaconda3/envs/python3/lib/python3.10/site-packages/sagemaker/telemetry/telemetry_logging.py#91\" target=\"_blank\"><span style=\"color: #7f7f7f; text-decoration-color: #7f7f7f\">91</span></a>\n",
       "<span style=\"color: #7fbfbf; text-decoration-color: #7fbfbf\">                    </span>         understand our user's needs, diagnose issues, and deliver      <span style=\"color: #7f7f7f; text-decoration-color: #7f7f7f\">                       </span>\n",
       "<span style=\"color: #7fbfbf; text-decoration-color: #7fbfbf\">                    </span>         additional features.                                           <span style=\"color: #7f7f7f; text-decoration-color: #7f7f7f\">                       </span>\n",
       "<span style=\"color: #7fbfbf; text-decoration-color: #7fbfbf\">                    </span>         To opt out of telemetry, please disable via TelemetryOptOut    <span style=\"color: #7f7f7f; text-decoration-color: #7f7f7f\">                       </span>\n",
       "<span style=\"color: #7fbfbf; text-decoration-color: #7fbfbf\">                    </span>         parameter in SDK defaults config. For more information, refer  <span style=\"color: #7f7f7f; text-decoration-color: #7f7f7f\">                       </span>\n",
       "<span style=\"color: #7fbfbf; text-decoration-color: #7fbfbf\">                    </span>         to                                                             <span style=\"color: #7f7f7f; text-decoration-color: #7f7f7f\">                       </span>\n",
       "<span style=\"color: #7fbfbf; text-decoration-color: #7fbfbf\">                    </span>         <span style=\"color: #0069ff; text-decoration-color: #0069ff; text-decoration: underline\">https://sagemaker.readthedocs.io/en/stable/overview.html#confi</span> <span style=\"color: #7f7f7f; text-decoration-color: #7f7f7f\">                       </span>\n",
       "<span style=\"color: #7fbfbf; text-decoration-color: #7fbfbf\">                    </span>         <span style=\"color: #0069ff; text-decoration-color: #0069ff; text-decoration: underline\">guring-and-using-defaults-with-the-sagemaker-python-sdk.</span>       <span style=\"color: #7f7f7f; text-decoration-color: #7f7f7f\">                       </span>\n",
       "</pre>\n"
      ],
      "text/plain": [
       "\u001b[2;36m                   \u001b[0m\u001b[2;36m \u001b[0m\u001b[1;38;2;0;105;255mINFO    \u001b[0m SageMaker Python SDK will collect telemetry to help us better  \u001b]8;id=842577;file:///home/ec2-user/anaconda3/envs/python3/lib/python3.10/site-packages/sagemaker/telemetry/telemetry_logging.py\u001b\\\u001b[2mtelemetry_logging.py\u001b[0m\u001b]8;;\u001b\\\u001b[2m:\u001b[0m\u001b]8;id=695952;file:///home/ec2-user/anaconda3/envs/python3/lib/python3.10/site-packages/sagemaker/telemetry/telemetry_logging.py#91\u001b\\\u001b[2m91\u001b[0m\u001b]8;;\u001b\\\n",
       "\u001b[2;36m                    \u001b[0m         understand our user's needs, diagnose issues, and deliver      \u001b[2m                       \u001b[0m\n",
       "\u001b[2;36m                    \u001b[0m         additional features.                                           \u001b[2m                       \u001b[0m\n",
       "\u001b[2;36m                    \u001b[0m         To opt out of telemetry, please disable via TelemetryOptOut    \u001b[2m                       \u001b[0m\n",
       "\u001b[2;36m                    \u001b[0m         parameter in SDK defaults config. For more information, refer  \u001b[2m                       \u001b[0m\n",
       "\u001b[2;36m                    \u001b[0m         to                                                             \u001b[2m                       \u001b[0m\n",
       "\u001b[2;36m                    \u001b[0m         \u001b[4;38;2;0;105;255mhttps://sagemaker.readthedocs.io/en/stable/overview.html#confi\u001b[0m \u001b[2m                       \u001b[0m\n",
       "\u001b[2;36m                    \u001b[0m         \u001b[4;38;2;0;105;255mguring-and-using-defaults-with-the-sagemaker-python-sdk.\u001b[0m       \u001b[2m                       \u001b[0m\n"
      ]
     },
     "metadata": {},
     "output_type": "display_data"
    },
    {
     "data": {
      "text/html": [
       "<pre style=\"white-space:pre;overflow-x:auto;line-height:normal;font-family:Menlo,'DejaVu Sans Mono',consolas,'Courier New',monospace\"><span style=\"color: #7fbfbf; text-decoration-color: #7fbfbf\">                    </span><span style=\"color: #0069ff; text-decoration-color: #0069ff; font-weight: bold\">INFO    </span> Creating training-job with name: blazingtext-<span style=\"color: #008080; text-decoration-color: #008080; font-weight: bold\">2025</span>-04-02-10-29-40-586   <a href=\"file:///home/ec2-user/anaconda3/envs/python3/lib/python3.10/site-packages/sagemaker/session.py\" target=\"_blank\"><span style=\"color: #7f7f7f; text-decoration-color: #7f7f7f\">session.py</span></a><span style=\"color: #7f7f7f; text-decoration-color: #7f7f7f\">:</span><a href=\"file:///home/ec2-user/anaconda3/envs/python3/lib/python3.10/site-packages/sagemaker/session.py#1042\" target=\"_blank\"><span style=\"color: #7f7f7f; text-decoration-color: #7f7f7f\">1042</span></a>\n",
       "</pre>\n"
      ],
      "text/plain": [
       "\u001b[2;36m                   \u001b[0m\u001b[2;36m \u001b[0m\u001b[1;38;2;0;105;255mINFO    \u001b[0m Creating training-job with name: blazingtext-\u001b[1;36m2025\u001b[0m-04-02-10-29-40-586   \u001b]8;id=289897;file:///home/ec2-user/anaconda3/envs/python3/lib/python3.10/site-packages/sagemaker/session.py\u001b\\\u001b[2msession.py\u001b[0m\u001b]8;;\u001b\\\u001b[2m:\u001b[0m\u001b]8;id=712510;file:///home/ec2-user/anaconda3/envs/python3/lib/python3.10/site-packages/sagemaker/session.py#1042\u001b\\\u001b[2m1042\u001b[0m\u001b]8;;\u001b\\\n"
      ]
     },
     "metadata": {},
     "output_type": "display_data"
    },
    {
     "name": "stdout",
     "output_type": "stream",
     "text": [
      "2025-04-02 10:29:40 Starting - Starting the training job...\n",
      "2025-04-02 10:30:09 Starting - Preparing the instances for training...\n",
      "2025-04-02 10:30:33 Downloading - Downloading input data......\n",
      "2025-04-02 10:31:33 Training - Training image download completed. Training in progress.\u001b[34mArguments: train\u001b[0m\n",
      "\u001b[34m[04/02/2025 10:31:37 WARNING 140255874778944] Loggers have already been setup.\u001b[0m\n",
      "\u001b[34m[04/02/2025 10:31:37 WARNING 140255874778944] Loggers have already been setup.\u001b[0m\n",
      "\u001b[34m/opt/amazon/python3.8/lib/python3.8/subprocess.py:848: RuntimeWarning: line buffering (buffering=1) isn't supported in binary mode, the default buffer size will be used\n",
      "  self.stdout = io.open(c2pread, 'rb', bufsize)\u001b[0m\n",
      "\u001b[34m[04/02/2025 10:31:37 INFO 140255874778944] nvidia-smi took: 0.025224685668945312 secs to identify 0 gpus\u001b[0m\n",
      "\u001b[34m[04/02/2025 10:31:37 INFO 140255874778944] Running single machine CPU BlazingText training using supervised mode.\u001b[0m\n",
      "\u001b[34mNumber of CPU sockets found in instance is  1\u001b[0m\n",
      "\u001b[34m[04/02/2025 10:31:37 INFO 140255874778944] Processing /opt/ml/input/data/train/train.txt . File size: 0.8452701568603516 MB\u001b[0m\n",
      "\u001b[34m[04/02/2025 10:31:37 INFO 140255874778944] Processing /opt/ml/input/data/validation/validation.txt . File size: 0.1847982406616211 MB\u001b[0m\n",
      "\u001b[34mRead 0M words\u001b[0m\n",
      "\u001b[34mNumber of words:  4448\u001b[0m\n",
      "\u001b[34m##### Alpha: 0.0248  Progress: 50.35%  Million Words/sec: 6.76 #####\u001b[0m\n",
      "\u001b[34m##### Alpha: -0.0000  Progress: 100.00%  Million Words/sec: 6.72 #####\u001b[0m\n",
      "\u001b[34m##### Alpha: 0.0000  Progress: 100.00%  Million Words/sec: 6.70 #####\u001b[0m\n",
      "\u001b[34mTraining finished.\u001b[0m\n",
      "\u001b[34mAverage throughput in Million words/sec: 6.70\u001b[0m\n",
      "\u001b[34mTotal training time in seconds: 0.20\u001b[0m\n",
      "\u001b[34m#train_accuracy: 0.9178\u001b[0m\n",
      "\u001b[34mNumber of train examples: 6287\u001b[0m\n",
      "\u001b[34m#validation_accuracy: 0.8612\u001b[0m\n",
      "\u001b[34mNumber of validation examples: 1347\u001b[0m\n",
      "\n",
      "2025-04-02 10:32:02 Uploading - Uploading generated training model\n",
      "2025-04-02 10:32:02 Completed - Training job completed\n",
      "Training seconds: 89\n",
      "Billable seconds: 89\n"
     ]
    }
   ],
   "source": [
    "bt_image_uri = image_uris.retrieve(\"blazingtext\", region=region)\n",
    "\n",
    "# Initialize the SageMaker Estimator\n",
    "bt_estimator = Estimator(\n",
    "    image_uri=bt_image_uri,\n",
    "    role=role,\n",
    "    instance_count=1,\n",
    "    instance_type=INSTANCE_TYPE,\n",
    "    output_path=f\"s3://{bucket}/{PREFIX}/output\",\n",
    "    sagemaker_session=session\n",
    ")\n",
    "\n",
    "# Set BlazingText hyperparameters\n",
    "bt_estimator.set_hyperparameters(\n",
    "    mode=\"supervised\",\n",
    "    epochs=10,\n",
    "    learning_rate=0.05,\n",
    "    word_ngrams=1,\n",
    "    min_count=2\n",
    ")\n",
    "\n",
    "# Launch the training job\n",
    "logger.info(\"Starting training job with BlazingText on SageMaker...\")\n",
    "\n",
    "bt_estimator.fit({\n",
    "    \"train\": TrainingInput(train_s3_uri, distribution=\"FullyReplicated\"),\n",
    "    \"validation\": TrainingInput(val_s3_uri, distribution=\"FullyReplicated\")\n",
    "})\n"
   ]
  },
  {
   "cell_type": "markdown",
   "id": "ba65d40c-69dd-4679-97e3-dfc035e0d5f4",
   "metadata": {},
   "source": [
    "## SECTION 12: Model Deployment\n",
    "\n",
    "This section will:\n",
    "\n",
    "- Check whether an existing SageMaker endpoint with the same name already exists  \n",
    "- If found, safely delete the existing endpoint and its configuration  \n",
    "- Wait for the endpoint to be fully deleted before proceeding (with status updates logged)  \n",
    "- Deploy the newly trained BlazingText model to a real-time inference endpoint  \n",
    "- Configure the deployed model to accept and return data in JSON format using `JSONSerializer` and `JSONDeserializer`\n",
    "\n",
    "This ensures that students can safely re-run the notebook without manual cleanup and have a fresh deployment each time.\n",
    "\n",
    "After this section, the notebook will have:\n",
    "\n",
    "- Removed any previously deployed endpoint with the same name  \n",
    "- Deployed the current model version to a new SageMaker endpoint  \n",
    "- A configured predictor object that can be used for real-time text classification\n"
   ]
  },
  {
   "cell_type": "code",
   "execution_count": 12,
   "id": "3b8911fb-be1c-4e6b-b40a-70533b58ab86",
   "metadata": {},
   "outputs": [
    {
     "data": {
      "text/html": [
       "<pre style=\"white-space:pre;overflow-x:auto;line-height:normal;font-family:Menlo,'DejaVu Sans Mono',consolas,'Courier New',monospace\"><span style=\"color: #7fbfbf; text-decoration-color: #7fbfbf\">[04/02/25 10:32:28] </span><span style=\"color: #0069ff; text-decoration-color: #0069ff; font-weight: bold\">INFO    </span> Existing endpoint found: blazingtext-classification. Deleting<span style=\"color: #808000; text-decoration-color: #808000\">...</span>        <a href=\"file:///tmp/ipykernel_11276/976856035.py\" target=\"_blank\"><span style=\"color: #7f7f7f; text-decoration-color: #7f7f7f\">976856035.py</span></a><span style=\"color: #7f7f7f; text-decoration-color: #7f7f7f\">:</span><a href=\"file:///tmp/ipykernel_11276/976856035.py#6\" target=\"_blank\"><span style=\"color: #7f7f7f; text-decoration-color: #7f7f7f\">6</span></a>\n",
       "</pre>\n"
      ],
      "text/plain": [
       "\u001b[2;36m[04/02/25 10:32:28]\u001b[0m\u001b[2;36m \u001b[0m\u001b[1;38;2;0;105;255mINFO    \u001b[0m Existing endpoint found: blazingtext-classification. Deleting\u001b[33m...\u001b[0m        \u001b]8;id=890450;file:///tmp/ipykernel_11276/976856035.py\u001b\\\u001b[2m976856035.py\u001b[0m\u001b]8;;\u001b\\\u001b[2m:\u001b[0m\u001b]8;id=936848;file:///tmp/ipykernel_11276/976856035.py#6\u001b\\\u001b[2m6\u001b[0m\u001b]8;;\u001b\\\n"
      ]
     },
     "metadata": {},
     "output_type": "display_data"
    },
    {
     "data": {
      "text/html": [
       "<pre style=\"white-space:pre;overflow-x:auto;line-height:normal;font-family:Menlo,'DejaVu Sans Mono',consolas,'Courier New',monospace\"><span style=\"color: #7fbfbf; text-decoration-color: #7fbfbf\">                    </span><span style=\"color: #0069ff; text-decoration-color: #0069ff; font-weight: bold\">INFO    </span> Deleted existing endpoint config: blazingtext-classification           <a href=\"file:///tmp/ipykernel_11276/976856035.py\" target=\"_blank\"><span style=\"color: #7f7f7f; text-decoration-color: #7f7f7f\">976856035.py</span></a><span style=\"color: #7f7f7f; text-decoration-color: #7f7f7f\">:</span><a href=\"file:///tmp/ipykernel_11276/976856035.py#13\" target=\"_blank\"><span style=\"color: #7f7f7f; text-decoration-color: #7f7f7f\">13</span></a>\n",
       "</pre>\n"
      ],
      "text/plain": [
       "\u001b[2;36m                   \u001b[0m\u001b[2;36m \u001b[0m\u001b[1;38;2;0;105;255mINFO    \u001b[0m Deleted existing endpoint config: blazingtext-classification           \u001b]8;id=54872;file:///tmp/ipykernel_11276/976856035.py\u001b\\\u001b[2m976856035.py\u001b[0m\u001b]8;;\u001b\\\u001b[2m:\u001b[0m\u001b]8;id=644024;file:///tmp/ipykernel_11276/976856035.py#13\u001b\\\u001b[2m13\u001b[0m\u001b]8;;\u001b\\\n"
      ]
     },
     "metadata": {},
     "output_type": "display_data"
    },
    {
     "data": {
      "text/html": [
       "<pre style=\"white-space:pre;overflow-x:auto;line-height:normal;font-family:Menlo,'DejaVu Sans Mono',consolas,'Courier New',monospace\"><span style=\"color: #7fbfbf; text-decoration-color: #7fbfbf\">                    </span><span style=\"color: #0069ff; text-decoration-color: #0069ff; font-weight: bold\">INFO    </span> Waiting for endpoint deletion to complete<span style=\"color: #808000; text-decoration-color: #808000\">...</span>                           <a href=\"file:///tmp/ipykernel_11276/976856035.py\" target=\"_blank\"><span style=\"color: #7f7f7f; text-decoration-color: #7f7f7f\">976856035.py</span></a><span style=\"color: #7f7f7f; text-decoration-color: #7f7f7f\">:</span><a href=\"file:///tmp/ipykernel_11276/976856035.py#18\" target=\"_blank\"><span style=\"color: #7f7f7f; text-decoration-color: #7f7f7f\">18</span></a>\n",
       "</pre>\n"
      ],
      "text/plain": [
       "\u001b[2;36m                   \u001b[0m\u001b[2;36m \u001b[0m\u001b[1;38;2;0;105;255mINFO    \u001b[0m Waiting for endpoint deletion to complete\u001b[33m...\u001b[0m                           \u001b]8;id=26182;file:///tmp/ipykernel_11276/976856035.py\u001b\\\u001b[2m976856035.py\u001b[0m\u001b]8;;\u001b\\\u001b[2m:\u001b[0m\u001b]8;id=108186;file:///tmp/ipykernel_11276/976856035.py#18\u001b\\\u001b[2m18\u001b[0m\u001b]8;;\u001b\\\n"
      ]
     },
     "metadata": {},
     "output_type": "display_data"
    },
    {
     "data": {
      "text/html": [
       "<pre style=\"white-space:pre;overflow-x:auto;line-height:normal;font-family:Menlo,'DejaVu Sans Mono',consolas,'Courier New',monospace\"><span style=\"color: #7fbfbf; text-decoration-color: #7fbfbf\">                    </span><span style=\"color: #0069ff; text-decoration-color: #0069ff; font-weight: bold\">INFO    </span> Endpoint status: Deleting — still deleting<span style=\"color: #808000; text-decoration-color: #808000\">...</span>                          <a href=\"file:///tmp/ipykernel_11276/976856035.py\" target=\"_blank\"><span style=\"color: #7f7f7f; text-decoration-color: #7f7f7f\">976856035.py</span></a><span style=\"color: #7f7f7f; text-decoration-color: #7f7f7f\">:</span><a href=\"file:///tmp/ipykernel_11276/976856035.py#22\" target=\"_blank\"><span style=\"color: #7f7f7f; text-decoration-color: #7f7f7f\">22</span></a>\n",
       "</pre>\n"
      ],
      "text/plain": [
       "\u001b[2;36m                   \u001b[0m\u001b[2;36m \u001b[0m\u001b[1;38;2;0;105;255mINFO    \u001b[0m Endpoint status: Deleting — still deleting\u001b[33m...\u001b[0m                          \u001b]8;id=465943;file:///tmp/ipykernel_11276/976856035.py\u001b\\\u001b[2m976856035.py\u001b[0m\u001b]8;;\u001b\\\u001b[2m:\u001b[0m\u001b]8;id=732967;file:///tmp/ipykernel_11276/976856035.py#22\u001b\\\u001b[2m22\u001b[0m\u001b]8;;\u001b\\\n"
      ]
     },
     "metadata": {},
     "output_type": "display_data"
    },
    {
     "data": {
      "text/html": [
       "<pre style=\"white-space:pre;overflow-x:auto;line-height:normal;font-family:Menlo,'DejaVu Sans Mono',consolas,'Courier New',monospace\"><span style=\"color: #7fbfbf; text-decoration-color: #7fbfbf\">[04/02/25 10:32:33] </span><span style=\"color: #0069ff; text-decoration-color: #0069ff; font-weight: bold\">INFO    </span> Endpoint deletion confirmed.                                           <a href=\"file:///tmp/ipykernel_11276/976856035.py\" target=\"_blank\"><span style=\"color: #7f7f7f; text-decoration-color: #7f7f7f\">976856035.py</span></a><span style=\"color: #7f7f7f; text-decoration-color: #7f7f7f\">:</span><a href=\"file:///tmp/ipykernel_11276/976856035.py#26\" target=\"_blank\"><span style=\"color: #7f7f7f; text-decoration-color: #7f7f7f\">26</span></a>\n",
       "</pre>\n"
      ],
      "text/plain": [
       "\u001b[2;36m[04/02/25 10:32:33]\u001b[0m\u001b[2;36m \u001b[0m\u001b[1;38;2;0;105;255mINFO    \u001b[0m Endpoint deletion confirmed.                                           \u001b]8;id=537841;file:///tmp/ipykernel_11276/976856035.py\u001b\\\u001b[2m976856035.py\u001b[0m\u001b]8;;\u001b\\\u001b[2m:\u001b[0m\u001b]8;id=934822;file:///tmp/ipykernel_11276/976856035.py#26\u001b\\\u001b[2m26\u001b[0m\u001b]8;;\u001b\\\n"
      ]
     },
     "metadata": {},
     "output_type": "display_data"
    },
    {
     "data": {
      "text/html": [
       "<pre style=\"white-space:pre;overflow-x:auto;line-height:normal;font-family:Menlo,'DejaVu Sans Mono',consolas,'Courier New',monospace\"><span style=\"color: #7fbfbf; text-decoration-color: #7fbfbf\">                    </span><span style=\"color: #0069ff; text-decoration-color: #0069ff; font-weight: bold\">INFO    </span> Deploying model to endpoint: blazingtext-classification                <a href=\"file:///tmp/ipykernel_11276/976856035.py\" target=\"_blank\"><span style=\"color: #7f7f7f; text-decoration-color: #7f7f7f\">976856035.py</span></a><span style=\"color: #7f7f7f; text-decoration-color: #7f7f7f\">:</span><a href=\"file:///tmp/ipykernel_11276/976856035.py#34\" target=\"_blank\"><span style=\"color: #7f7f7f; text-decoration-color: #7f7f7f\">34</span></a>\n",
       "</pre>\n"
      ],
      "text/plain": [
       "\u001b[2;36m                   \u001b[0m\u001b[2;36m \u001b[0m\u001b[1;38;2;0;105;255mINFO    \u001b[0m Deploying model to endpoint: blazingtext-classification                \u001b]8;id=304606;file:///tmp/ipykernel_11276/976856035.py\u001b\\\u001b[2m976856035.py\u001b[0m\u001b]8;;\u001b\\\u001b[2m:\u001b[0m\u001b]8;id=940103;file:///tmp/ipykernel_11276/976856035.py#34\u001b\\\u001b[2m34\u001b[0m\u001b]8;;\u001b\\\n"
      ]
     },
     "metadata": {},
     "output_type": "display_data"
    },
    {
     "data": {
      "text/html": [
       "<pre style=\"white-space:pre;overflow-x:auto;line-height:normal;font-family:Menlo,'DejaVu Sans Mono',consolas,'Courier New',monospace\"><span style=\"color: #7fbfbf; text-decoration-color: #7fbfbf\">                    </span><span style=\"color: #0069ff; text-decoration-color: #0069ff; font-weight: bold\">INFO    </span> Creating model with name: blazingtext-<span style=\"color: #008080; text-decoration-color: #008080; font-weight: bold\">2025</span>-04-02-10-32-33-519          <a href=\"file:///home/ec2-user/anaconda3/envs/python3/lib/python3.10/site-packages/sagemaker/session.py\" target=\"_blank\"><span style=\"color: #7f7f7f; text-decoration-color: #7f7f7f\">session.py</span></a><span style=\"color: #7f7f7f; text-decoration-color: #7f7f7f\">:</span><a href=\"file:///home/ec2-user/anaconda3/envs/python3/lib/python3.10/site-packages/sagemaker/session.py#4094\" target=\"_blank\"><span style=\"color: #7f7f7f; text-decoration-color: #7f7f7f\">4094</span></a>\n",
       "</pre>\n"
      ],
      "text/plain": [
       "\u001b[2;36m                   \u001b[0m\u001b[2;36m \u001b[0m\u001b[1;38;2;0;105;255mINFO    \u001b[0m Creating model with name: blazingtext-\u001b[1;36m2025\u001b[0m-04-02-10-32-33-519          \u001b]8;id=856059;file:///home/ec2-user/anaconda3/envs/python3/lib/python3.10/site-packages/sagemaker/session.py\u001b\\\u001b[2msession.py\u001b[0m\u001b]8;;\u001b\\\u001b[2m:\u001b[0m\u001b]8;id=466890;file:///home/ec2-user/anaconda3/envs/python3/lib/python3.10/site-packages/sagemaker/session.py#4094\u001b\\\u001b[2m4094\u001b[0m\u001b]8;;\u001b\\\n"
      ]
     },
     "metadata": {},
     "output_type": "display_data"
    },
    {
     "data": {
      "text/html": [
       "<pre style=\"white-space:pre;overflow-x:auto;line-height:normal;font-family:Menlo,'DejaVu Sans Mono',consolas,'Courier New',monospace\"><span style=\"color: #7fbfbf; text-decoration-color: #7fbfbf\">[04/02/25 10:32:34] </span><span style=\"color: #0069ff; text-decoration-color: #0069ff; font-weight: bold\">INFO    </span> Creating endpoint-config with name blazingtext-classification          <a href=\"file:///home/ec2-user/anaconda3/envs/python3/lib/python3.10/site-packages/sagemaker/session.py\" target=\"_blank\"><span style=\"color: #7f7f7f; text-decoration-color: #7f7f7f\">session.py</span></a><span style=\"color: #7f7f7f; text-decoration-color: #7f7f7f\">:</span><a href=\"file:///home/ec2-user/anaconda3/envs/python3/lib/python3.10/site-packages/sagemaker/session.py#5937\" target=\"_blank\"><span style=\"color: #7f7f7f; text-decoration-color: #7f7f7f\">5937</span></a>\n",
       "</pre>\n"
      ],
      "text/plain": [
       "\u001b[2;36m[04/02/25 10:32:34]\u001b[0m\u001b[2;36m \u001b[0m\u001b[1;38;2;0;105;255mINFO    \u001b[0m Creating endpoint-config with name blazingtext-classification          \u001b]8;id=650500;file:///home/ec2-user/anaconda3/envs/python3/lib/python3.10/site-packages/sagemaker/session.py\u001b\\\u001b[2msession.py\u001b[0m\u001b]8;;\u001b\\\u001b[2m:\u001b[0m\u001b]8;id=817779;file:///home/ec2-user/anaconda3/envs/python3/lib/python3.10/site-packages/sagemaker/session.py#5937\u001b\\\u001b[2m5937\u001b[0m\u001b]8;;\u001b\\\n"
      ]
     },
     "metadata": {},
     "output_type": "display_data"
    },
    {
     "data": {
      "text/html": [
       "<pre style=\"white-space:pre;overflow-x:auto;line-height:normal;font-family:Menlo,'DejaVu Sans Mono',consolas,'Courier New',monospace\"><span style=\"color: #7fbfbf; text-decoration-color: #7fbfbf\">                    </span><span style=\"color: #0069ff; text-decoration-color: #0069ff; font-weight: bold\">INFO    </span> Creating endpoint with name blazingtext-classification                 <a href=\"file:///home/ec2-user/anaconda3/envs/python3/lib/python3.10/site-packages/sagemaker/session.py\" target=\"_blank\"><span style=\"color: #7f7f7f; text-decoration-color: #7f7f7f\">session.py</span></a><span style=\"color: #7f7f7f; text-decoration-color: #7f7f7f\">:</span><a href=\"file:///home/ec2-user/anaconda3/envs/python3/lib/python3.10/site-packages/sagemaker/session.py#4759\" target=\"_blank\"><span style=\"color: #7f7f7f; text-decoration-color: #7f7f7f\">4759</span></a>\n",
       "</pre>\n"
      ],
      "text/plain": [
       "\u001b[2;36m                   \u001b[0m\u001b[2;36m \u001b[0m\u001b[1;38;2;0;105;255mINFO    \u001b[0m Creating endpoint with name blazingtext-classification                 \u001b]8;id=757360;file:///home/ec2-user/anaconda3/envs/python3/lib/python3.10/site-packages/sagemaker/session.py\u001b\\\u001b[2msession.py\u001b[0m\u001b]8;;\u001b\\\u001b[2m:\u001b[0m\u001b]8;id=965048;file:///home/ec2-user/anaconda3/envs/python3/lib/python3.10/site-packages/sagemaker/session.py#4759\u001b\\\u001b[2m4759\u001b[0m\u001b]8;;\u001b\\\n"
      ]
     },
     "metadata": {},
     "output_type": "display_data"
    },
    {
     "name": "stdout",
     "output_type": "stream",
     "text": [
      "-----!"
     ]
    },
    {
     "data": {
      "text/html": [
       "<pre style=\"white-space:pre;overflow-x:auto;line-height:normal;font-family:Menlo,'DejaVu Sans Mono',consolas,'Courier New',monospace\"><span style=\"color: #7fbfbf; text-decoration-color: #7fbfbf\">[04/02/25 10:35:35] </span><span style=\"color: #0069ff; text-decoration-color: #0069ff; font-weight: bold\">INFO    </span> Model successfully deployed and ready for inference.                   <a href=\"file:///tmp/ipykernel_11276/976856035.py\" target=\"_blank\"><span style=\"color: #7f7f7f; text-decoration-color: #7f7f7f\">976856035.py</span></a><span style=\"color: #7f7f7f; text-decoration-color: #7f7f7f\">:</span><a href=\"file:///tmp/ipykernel_11276/976856035.py#44\" target=\"_blank\"><span style=\"color: #7f7f7f; text-decoration-color: #7f7f7f\">44</span></a>\n",
       "</pre>\n"
      ],
      "text/plain": [
       "\u001b[2;36m[04/02/25 10:35:35]\u001b[0m\u001b[2;36m \u001b[0m\u001b[1;38;2;0;105;255mINFO    \u001b[0m Model successfully deployed and ready for inference.                   \u001b]8;id=323122;file:///tmp/ipykernel_11276/976856035.py\u001b\\\u001b[2m976856035.py\u001b[0m\u001b]8;;\u001b\\\u001b[2m:\u001b[0m\u001b]8;id=636546;file:///tmp/ipykernel_11276/976856035.py#44\u001b\\\u001b[2m44\u001b[0m\u001b]8;;\u001b\\\n"
      ]
     },
     "metadata": {},
     "output_type": "display_data"
    }
   ],
   "source": [
    "sm_client = boto3.client(\"sagemaker\")\n",
    "\n",
    "def delete_existing_endpoint(endpoint_name):\n",
    "    try:\n",
    "        sm_client.describe_endpoint(EndpointName=endpoint_name)\n",
    "        logger.info(f\"Existing endpoint found: {endpoint_name}. Deleting...\")\n",
    "        sm_client.delete_endpoint(EndpointName=endpoint_name)\n",
    "    except ClientError:\n",
    "        logger.info(f\"No existing endpoint named {endpoint_name} to delete.\")\n",
    "\n",
    "    try:\n",
    "        sm_client.delete_endpoint_config(EndpointConfigName=endpoint_name)\n",
    "        logger.info(f\"Deleted existing endpoint config: {endpoint_name}\")\n",
    "    except ClientError:\n",
    "        logger.info(f\"No existing endpoint config to delete for: {endpoint_name}\")\n",
    "\n",
    "    # Wait for endpoint deletion\n",
    "    logger.info(\"Waiting for endpoint deletion to complete...\")\n",
    "    while True:\n",
    "        try:\n",
    "            status = sm_client.describe_endpoint(EndpointName=endpoint_name)\n",
    "            logger.info(f\"Endpoint status: {status['EndpointStatus']} — still deleting...\")\n",
    "            time.sleep(5)\n",
    "        except ClientError as e:\n",
    "            if \"Could not find endpoint\" in str(e):\n",
    "                logger.info(\"Endpoint deletion confirmed.\")\n",
    "                break\n",
    "            else:\n",
    "                raise e\n",
    "\n",
    "# Perform cleanup and redeploy\n",
    "delete_existing_endpoint(ENDPOINT_NAME)\n",
    "\n",
    "logger.info(f\"Deploying model to endpoint: {ENDPOINT_NAME}\")\n",
    "predictor = bt_estimator.deploy(\n",
    "    initial_instance_count=1,\n",
    "    instance_type=DEPLOY_INSTANCE_TYPE,\n",
    "    endpoint_name=ENDPOINT_NAME\n",
    ")\n",
    "\n",
    "predictor.serializer = JSONSerializer()\n",
    "predictor.deserializer = JSONDeserializer()\n",
    "\n",
    "logger.info(\"Model successfully deployed and ready for inference.\")\n"
   ]
  },
  {
   "cell_type": "markdown",
   "id": "d8593b14-8eda-47a5-93a8-60eb8de405aa",
   "metadata": {},
   "source": [
    "## SECTION 13: Batch Prediction on the Test Set\n",
    "\n",
    "This section will:\n",
    "\n",
    "- Define a function to send cleaned test inputs to the deployed endpoint in manageable batches  \n",
    "- Send requests to the SageMaker endpoint using the predictor object  \n",
    "- Extract and clean the top predicted label from the response, removing the `__label__` prefix  \n",
    "- Attach the predictions to the test DataFrame in a new column called `predicted_label`  \n",
    "- Display a sample of actual vs. predicted labels for manual inspection\n",
    "\n",
    "Batching the input helps avoid overwhelming the endpoint with too many requests at once and ensures efficient inference.\n",
    "\n",
    "After this section, the notebook will have:\n",
    "\n",
    "- Generated predictions for all test samples  \n",
    "- Attached predicted labels to the corresponding entries in the test DataFrame  \n",
    "- Displayed a preview of the model’s performance on unseen examples\n"
   ]
  },
  {
   "cell_type": "code",
   "execution_count": 13,
   "id": "da810c75-aeee-4429-aaad-e62c59759581",
   "metadata": {},
   "outputs": [
    {
     "data": {
      "text/html": [
       "<pre style=\"white-space:pre;overflow-x:auto;line-height:normal;font-family:Menlo,'DejaVu Sans Mono',consolas,'Courier New',monospace\"><span style=\"color: #7fbfbf; text-decoration-color: #7fbfbf\">                    </span><span style=\"color: #0069ff; text-decoration-color: #0069ff; font-weight: bold\">INFO    </span> Running batch predictions on test set<span style=\"color: #808000; text-decoration-color: #808000\">...</span>                              <a href=\"file:///tmp/ipykernel_11276/2090662569.py\" target=\"_blank\"><span style=\"color: #7f7f7f; text-decoration-color: #7f7f7f\">2090662569.py</span></a><span style=\"color: #7f7f7f; text-decoration-color: #7f7f7f\">:</span><a href=\"file:///tmp/ipykernel_11276/2090662569.py#29\" target=\"_blank\"><span style=\"color: #7f7f7f; text-decoration-color: #7f7f7f\">29</span></a>\n",
       "</pre>\n"
      ],
      "text/plain": [
       "\u001b[2;36m                   \u001b[0m\u001b[2;36m \u001b[0m\u001b[1;38;2;0;105;255mINFO    \u001b[0m Running batch predictions on test set\u001b[33m...\u001b[0m                              \u001b]8;id=484878;file:///tmp/ipykernel_11276/2090662569.py\u001b\\\u001b[2m2090662569.py\u001b[0m\u001b]8;;\u001b\\\u001b[2m:\u001b[0m\u001b]8;id=558593;file:///tmp/ipykernel_11276/2090662569.py#29\u001b\\\u001b[2m29\u001b[0m\u001b]8;;\u001b\\\n"
      ]
     },
     "metadata": {},
     "output_type": "display_data"
    },
    {
     "data": {
      "text/html": [
       "<pre style=\"white-space:pre;overflow-x:auto;line-height:normal;font-family:Menlo,'DejaVu Sans Mono',consolas,'Courier New',monospace\"><span style=\"color: #7fbfbf; text-decoration-color: #7fbfbf\">                    </span><span style=\"color: #0069ff; text-decoration-color: #0069ff; font-weight: bold\">INFO    </span> Sample predictions <span style=\"font-weight: bold\">(</span>actual vs. predicted<span style=\"font-weight: bold\">)</span>:                            <a href=\"file:///tmp/ipykernel_11276/2090662569.py\" target=\"_blank\"><span style=\"color: #7f7f7f; text-decoration-color: #7f7f7f\">2090662569.py</span></a><span style=\"color: #7f7f7f; text-decoration-color: #7f7f7f\">:</span><a href=\"file:///tmp/ipykernel_11276/2090662569.py#32\" target=\"_blank\"><span style=\"color: #7f7f7f; text-decoration-color: #7f7f7f\">32</span></a>\n",
       "</pre>\n"
      ],
      "text/plain": [
       "\u001b[2;36m                   \u001b[0m\u001b[2;36m \u001b[0m\u001b[1;38;2;0;105;255mINFO    \u001b[0m Sample predictions \u001b[1m(\u001b[0mactual vs. predicted\u001b[1m)\u001b[0m:                            \u001b]8;id=549259;file:///tmp/ipykernel_11276/2090662569.py\u001b\\\u001b[2m2090662569.py\u001b[0m\u001b]8;;\u001b\\\u001b[2m:\u001b[0m\u001b]8;id=328756;file:///tmp/ipykernel_11276/2090662569.py#32\u001b\\\u001b[2m32\u001b[0m\u001b]8;;\u001b\\\n"
      ]
     },
     "metadata": {},
     "output_type": "display_data"
    },
    {
     "data": {
      "text/html": [
       "<div>\n",
       "<style scoped>\n",
       "    .dataframe tbody tr th:only-of-type {\n",
       "        vertical-align: middle;\n",
       "    }\n",
       "\n",
       "    .dataframe tbody tr th {\n",
       "        vertical-align: top;\n",
       "    }\n",
       "\n",
       "    .dataframe thead th {\n",
       "        text-align: right;\n",
       "    }\n",
       "</style>\n",
       "<table border=\"1\" class=\"dataframe\">\n",
       "  <thead>\n",
       "    <tr style=\"text-align: right;\">\n",
       "      <th></th>\n",
       "      <th>Rating</th>\n",
       "      <th>predicted_label</th>\n",
       "      <th>cleaned_text</th>\n",
       "    </tr>\n",
       "  </thead>\n",
       "  <tbody>\n",
       "    <tr>\n",
       "      <th>6935</th>\n",
       "      <td>1</td>\n",
       "      <td>1</td>\n",
       "      <td>unique concept cafe hiring bike car enjoying c...</td>\n",
       "    </tr>\n",
       "    <tr>\n",
       "      <th>6673</th>\n",
       "      <td>1</td>\n",
       "      <td>1</td>\n",
       "      <td>staff friendly polite one best chinese restaur...</td>\n",
       "    </tr>\n",
       "    <tr>\n",
       "      <th>7094</th>\n",
       "      <td>1</td>\n",
       "      <td>1</td>\n",
       "      <td>good boy</td>\n",
       "    </tr>\n",
       "    <tr>\n",
       "      <th>1837</th>\n",
       "      <td>1</td>\n",
       "      <td>1</td>\n",
       "      <td>delivered time</td>\n",
       "    </tr>\n",
       "    <tr>\n",
       "      <th>156</th>\n",
       "      <td>1</td>\n",
       "      <td>1</td>\n",
       "      <td>awesome food service degraded compared last ye...</td>\n",
       "    </tr>\n",
       "  </tbody>\n",
       "</table>\n",
       "</div>"
      ],
      "text/plain": [
       "     Rating predicted_label                                       cleaned_text\n",
       "6935      1               1  unique concept cafe hiring bike car enjoying c...\n",
       "6673      1               1  staff friendly polite one best chinese restaur...\n",
       "7094      1               1                                           good boy\n",
       "1837      1               1                                     delivered time\n",
       "156       1               1  awesome food service degraded compared last ye..."
      ]
     },
     "metadata": {},
     "output_type": "display_data"
    }
   ],
   "source": [
    "def batch_predict(predictor, texts, batch_size=100):\n",
    "    \"\"\"\n",
    "    Sends text data in batches to the deployed endpoint and returns predicted labels.\n",
    "    \"\"\"\n",
    "    predictions = []\n",
    "\n",
    "    for i in range(0, len(texts), batch_size):\n",
    "        batch = texts[i:i + batch_size]\n",
    "\n",
    "        # Make prediction request\n",
    "        response = predictor.predict({\n",
    "            \"instances\": batch,\n",
    "            \"configuration\": {\"k\": 1}\n",
    "        })\n",
    "\n",
    "        for result in response:\n",
    "            labels = result.get(\"label\", [])\n",
    "            probs = result.get(\"prob\", [])\n",
    "\n",
    "            if labels and probs:\n",
    "                # Extract label and remove __label__ prefix\n",
    "                predicted = labels[0].replace(\"__label__\", \"\").capitalize()\n",
    "                predictions.append(predicted)\n",
    "            else:\n",
    "                predictions.append(\"Unknown\")\n",
    "\n",
    "    return predictions\n",
    "\n",
    "logger.info(\"Running batch predictions on test set...\")\n",
    "test_df[\"predicted_label\"] = batch_predict(predictor, test_df[\"cleaned_text\"].tolist())\n",
    "\n",
    "logger.info(\"Sample predictions (actual vs. predicted):\")\n",
    "display(test_df[[LABEL_COLUMN, \"predicted_label\", \"cleaned_text\"]].sample(5, random_state=1))\n"
   ]
  },
  {
   "cell_type": "markdown",
   "id": "4dc5b0b2-e107-449c-888a-e79185e63e4c",
   "metadata": {},
   "source": [
    "## SECTION 14: Model Evaluation and Metric Explanation\n",
    "\n",
    "This section will:\n",
    "\n",
    "- Compute a confusion matrix to compare true vs. predicted labels  \n",
    "- Display the confusion matrix as a heatmap for easy interpretation  \n",
    "- Calculate key evaluation metrics:  \n",
    "  - Accuracy  \n",
    "  - Precision (weighted)  \n",
    "  - Recall (weighted)  \n",
    "  - F1 Score (weighted)  \n",
    "- Print a detailed classification report for deeper insight into per-class performance  \n",
    "- Use `zero_division=0` to safely handle edge cases where a class has no predicted samples\n",
    "\n",
    "These metrics help evaluate how well the model is performing, both overall and for individual classes.\n",
    "\n",
    "After this section, the notebook will have:\n",
    "\n",
    "- A visual summary of prediction accuracy using a confusion matrix  \n",
    "- Weighted classification metrics to handle class imbalance  \n",
    "- A full classification report showing per-class performance for transparency and diagnostics\n"
   ]
  },
  {
   "cell_type": "code",
   "execution_count": 14,
   "id": "216df036-8b46-4b57-90a8-b945ba97b5a2",
   "metadata": {},
   "outputs": [
    {
     "data": {
      "image/png": "[encoded data removed]",
      "text/plain": [
       "<Figure size 600x500 with 2 Axes>"
      ]
     },
     "metadata": {},
     "output_type": "display_data"
    },
    {
     "name": "stdout",
     "output_type": "stream",
     "text": [
      "Evaluation Metrics:\n",
      " - Accuracy : 0.8635\n",
      " - Precision: 0.8627\n",
      " - Recall   : 0.8635\n",
      " - F1 Score : 0.8629\n",
      "\n",
      "Detailed Classification Report:\n",
      "              precision    recall  f1-score   support\n",
      "\n",
      "           0       0.83      0.80      0.81       498\n",
      "           1       0.88      0.90      0.89       850\n",
      "\n",
      "    accuracy                           0.86      1348\n",
      "   macro avg       0.86      0.85      0.85      1348\n",
      "weighted avg       0.86      0.86      0.86      1348\n",
      "\n"
     ]
    }
   ],
   "source": [
    "# Confusion matrix\n",
    "labels = sorted(df[LABEL_COLUMN].unique())\n",
    "cm = confusion_matrix(test_df[LABEL_COLUMN], test_df[\"predicted_label\"], labels=labels)\n",
    "\n",
    "plt.figure(figsize=(6, 5))\n",
    "sns.heatmap(cm, annot=True, fmt=\"d\", xticklabels=labels, yticklabels=labels, cmap=\"Blues\")\n",
    "plt.title(\"Confusion Matrix\")\n",
    "plt.xlabel(\"Predicted Label\")\n",
    "plt.ylabel(\"True Label\")\n",
    "plt.tight_layout()\n",
    "plt.show()\n",
    "\n",
    "accuracy = accuracy_score(test_df[LABEL_COLUMN], test_df[\"predicted_label\"])\n",
    "precision = precision_score(test_df[LABEL_COLUMN], test_df[\"predicted_label\"], average=\"weighted\", zero_division=0)\n",
    "recall = recall_score(test_df[LABEL_COLUMN], test_df[\"predicted_label\"], average=\"weighted\", zero_division=0)\n",
    "f1 = f1_score(test_df[LABEL_COLUMN], test_df[\"predicted_label\"], average=\"weighted\", zero_division=0)\n",
    "\n",
    "print(\"Evaluation Metrics:\")\n",
    "print(f\" - Accuracy : {accuracy:.4f}\")\n",
    "print(f\" - Precision: {precision:.4f}\")\n",
    "print(f\" - Recall   : {recall:.4f}\")\n",
    "print(f\" - F1 Score : {f1:.4f}\")\n",
    "\n",
    "print(\"\\nDetailed Classification Report:\")\n",
    "print(classification_report(test_df[LABEL_COLUMN], test_df[\"predicted_label\"], zero_division=0))\n"
   ]
  },
  {
   "cell_type": "markdown",
   "id": "bb5dfef7-635f-4071-a250-87e780fe1237",
   "metadata": {},
   "source": [
    "## SECTION 15: Interactive Inference and Optional Cleanup\n",
    "\n",
    "This section will:\n",
    "\n",
    "- Allow students to input custom review text and receive real-time predictions from the deployed endpoint  \n",
    "- Display the top predicted label along with the model’s confidence score  \n",
    "- Run in a loop until the user types `'exit'` to end the session  \n",
    "- Prompt the user to delete the SageMaker endpoint when done (or delete it automatically if `CLEANUP = True`)  \n",
    "- Help students avoid unnecessary AWS charges by managing the endpoint lifecycle\n",
    "\n",
    "This is the final step where students can directly interact with the trained model and optionally shut down their resources.\n",
    "\n",
    "After this section, the notebook will have:\n",
    "\n",
    "- Enabled live model testing through the command line  \n",
    "- Returned predictions for student-generated input  \n",
    "- Handled safe and optional endpoint cleanup based on configuration or user input\n"
   ]
  },
  {
   "cell_type": "code",
   "execution_count": null,
   "id": "d3442f18-30e9-4981-9471-4773a9f93113",
   "metadata": {},
   "outputs": [
    {
     "name": "stdout",
     "output_type": "stream",
     "text": [
      "\n",
      "Try your own review. Type 'exit' to quit.\n",
      "\n"
     ]
    }
   ],
   "source": [
    "def predict_custom_input(text_input):\n",
    "    \"\"\"\n",
    "    Sends a single review to the deployed endpoint and returns the predicted label.\n",
    "    \"\"\"\n",
    "    response = predictor.predict({\n",
    "        \"instances\": [text_input],\n",
    "        \"configuration\": {\"k\": 1}\n",
    "    })\n",
    "\n",
    "    if response and \"label\" in response[0]:\n",
    "        label = response[0][\"label\"][0].replace(\"__label__\", \"\").capitalize()\n",
    "        prob = response[0][\"prob\"][0]\n",
    "        return label, prob\n",
    "    else:\n",
    "        return \"Unknown\", 0.0\n",
    "\n",
    "print(\"\\nTry your own review. Type 'exit' to quit.\\n\")\n",
    "while True:\n",
    "    user_input = input(\"Enter a review: \").strip()\n",
    "    if user_input.lower() == \"exit\":\n",
    "        print(\"Exiting interactive prediction.\")\n",
    "        break\n",
    "    if not user_input:\n",
    "        continue\n",
    "\n",
    "    predicted_label, confidence = predict_custom_input(user_input)\n",
    "    print(f\"Predicted Label: {predicted_label} (Confidence: {confidence:.2f})\\n\")\n",
    "\n",
    "# Optional cleanup\n",
    "if CLEANUP:\n",
    "    logger.info(f\"Auto-cleanup enabled. Deleting endpoint: {ENDPOINT_NAME}\")\n",
    "    predictor.delete_endpoint()\n",
    "else:\n",
    "    prompt = input(f\"\\nDo you want to delete the endpoint '{ENDPOINT_NAME}' now? (yes/no): \").strip().lower()\n",
    "    if prompt in [\"yes\", \"y\"]:\n",
    "        predictor.delete_endpoint()\n",
    "        logger.info(\"Endpoint deleted.\")\n",
    "    else:\n",
    "        logger.info(\"Endpoint left running. You can delete it later to avoid charges.\")\n"
   ]
  },
  {
   "cell_type": "code",
   "execution_count": null,
   "id": "0b329788-5625-42ae-b02f-3e6dafd938d5",
   "metadata": {},
   "outputs": [],
   "source": []
  }
 ],
 "metadata": {
  "kernelspec": {
   "display_name": "conda_python3",
   "language": "python",
   "name": "conda_python3"
  },
  "language_info": {
   "codemirror_mode": {
    "name": "ipython",
    "version": 3
   },
   "file_extension": ".py",
   "mimetype": "text/x-python",
   "name": "python",
   "nbconvert_exporter": "python",
   "pygments_lexer": "ipython3",
   "version": "3.10.16"
  }
 },
 "nbformat": 4,
 "nbformat_minor": 5
}
